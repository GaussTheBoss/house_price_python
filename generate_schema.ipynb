{
 "cells": [
  {
   "cell_type": "code",
   "execution_count": 1,
   "id": "6ef56721-ce11-4f3e-a1bd-8588a38fa8ca",
   "metadata": {},
   "outputs": [],
   "source": [
    "import pandas\n",
    "import numpy\n",
    "import json\n",
    "\n",
    "from modelop.monitors.drift import *\n",
    "from modelop.monitors.performance import *\n",
    "from modelop.monitors.volumetrics import *\n",
    "from modelop.schema.infer import infer_schema, set_monitoring_parameters, autoset_parameters\n",
    "\n",
    "import warnings\n",
    "warnings.simplefilter(action='ignore', category=FutureWarning)"
   ]
  },
  {
   "cell_type": "code",
   "execution_count": 2,
   "id": "36f08cba-8f9a-4771-9403-3fa48fcb3897",
   "metadata": {},
   "outputs": [],
   "source": [
    "df_baseline = pandas.read_json('df_baseline_scored.json', orient='records', lines=True)\n",
    "df_sample = pandas.read_json('df_sample_scored.json', orient='records', lines=True)"
   ]
  },
  {
   "cell_type": "code",
   "execution_count": 3,
   "id": "ce927cc2-c5f0-40d8-91a0-90d676846ac3",
   "metadata": {},
   "outputs": [],
   "source": [
    "df_baseline_schema = infer_schema(data=df_baseline, schema_name='df_baseline_scored_input_schema.avsc')\n",
    "df_sample_schema = infer_schema(data=df_sample, schema_name='df_sample_scored_input_schema.avsc')"
   ]
  },
  {
   "cell_type": "code",
   "execution_count": 4,
   "id": "254cc29b-53a6-43da-ad4d-f8aeecd6dcd8",
   "metadata": {},
   "outputs": [
    {
     "data": {
      "text/html": [
       "<div>\n",
       "<style scoped>\n",
       "    .dataframe tbody tr th:only-of-type {\n",
       "        vertical-align: middle;\n",
       "    }\n",
       "\n",
       "    .dataframe tbody tr th {\n",
       "        vertical-align: top;\n",
       "    }\n",
       "\n",
       "    .dataframe thead th {\n",
       "        text-align: right;\n",
       "    }\n",
       "</style>\n",
       "<table border=\"1\" class=\"dataframe\">\n",
       "  <thead>\n",
       "    <tr style=\"text-align: right;\">\n",
       "      <th></th>\n",
       "      <th>name</th>\n",
       "      <th>type</th>\n",
       "      <th>dataClass</th>\n",
       "      <th>role</th>\n",
       "      <th>protectedClass</th>\n",
       "      <th>driftCandidate</th>\n",
       "      <th>specialValues</th>\n",
       "      <th>scoringOptional</th>\n",
       "    </tr>\n",
       "  </thead>\n",
       "  <tbody>\n",
       "    <tr>\n",
       "      <th>0</th>\n",
       "      <td>FullBath</td>\n",
       "      <td>int</td>\n",
       "      <td>numerical</td>\n",
       "      <td>predictor</td>\n",
       "      <td>False</td>\n",
       "      <td>True</td>\n",
       "      <td>[]</td>\n",
       "      <td>False</td>\n",
       "    </tr>\n",
       "    <tr>\n",
       "      <th>1</th>\n",
       "      <td>1stFlrSF</td>\n",
       "      <td>int</td>\n",
       "      <td>numerical</td>\n",
       "      <td>predictor</td>\n",
       "      <td>False</td>\n",
       "      <td>True</td>\n",
       "      <td>[]</td>\n",
       "      <td>False</td>\n",
       "    </tr>\n",
       "    <tr>\n",
       "      <th>2</th>\n",
       "      <td>TotalBsmtSF</td>\n",
       "      <td>int</td>\n",
       "      <td>numerical</td>\n",
       "      <td>predictor</td>\n",
       "      <td>False</td>\n",
       "      <td>True</td>\n",
       "      <td>[]</td>\n",
       "      <td>False</td>\n",
       "    </tr>\n",
       "    <tr>\n",
       "      <th>3</th>\n",
       "      <td>BsmtQual</td>\n",
       "      <td>string</td>\n",
       "      <td>categorical</td>\n",
       "      <td>predictor</td>\n",
       "      <td>False</td>\n",
       "      <td>True</td>\n",
       "      <td>[]</td>\n",
       "      <td>False</td>\n",
       "    </tr>\n",
       "    <tr>\n",
       "      <th>4</th>\n",
       "      <td>GarageArea</td>\n",
       "      <td>int</td>\n",
       "      <td>numerical</td>\n",
       "      <td>predictor</td>\n",
       "      <td>False</td>\n",
       "      <td>True</td>\n",
       "      <td>[]</td>\n",
       "      <td>False</td>\n",
       "    </tr>\n",
       "    <tr>\n",
       "      <th>5</th>\n",
       "      <td>GarageCars</td>\n",
       "      <td>int</td>\n",
       "      <td>numerical</td>\n",
       "      <td>predictor</td>\n",
       "      <td>False</td>\n",
       "      <td>True</td>\n",
       "      <td>[]</td>\n",
       "      <td>False</td>\n",
       "    </tr>\n",
       "    <tr>\n",
       "      <th>6</th>\n",
       "      <td>KitchenQual</td>\n",
       "      <td>string</td>\n",
       "      <td>categorical</td>\n",
       "      <td>predictor</td>\n",
       "      <td>False</td>\n",
       "      <td>True</td>\n",
       "      <td>[]</td>\n",
       "      <td>False</td>\n",
       "    </tr>\n",
       "    <tr>\n",
       "      <th>7</th>\n",
       "      <td>ExterQual</td>\n",
       "      <td>string</td>\n",
       "      <td>categorical</td>\n",
       "      <td>predictor</td>\n",
       "      <td>False</td>\n",
       "      <td>True</td>\n",
       "      <td>[]</td>\n",
       "      <td>False</td>\n",
       "    </tr>\n",
       "    <tr>\n",
       "      <th>8</th>\n",
       "      <td>GrLivArea</td>\n",
       "      <td>int</td>\n",
       "      <td>numerical</td>\n",
       "      <td>predictor</td>\n",
       "      <td>False</td>\n",
       "      <td>True</td>\n",
       "      <td>[]</td>\n",
       "      <td>False</td>\n",
       "    </tr>\n",
       "    <tr>\n",
       "      <th>9</th>\n",
       "      <td>OverallQual</td>\n",
       "      <td>int</td>\n",
       "      <td>numerical</td>\n",
       "      <td>predictor</td>\n",
       "      <td>False</td>\n",
       "      <td>True</td>\n",
       "      <td>[]</td>\n",
       "      <td>False</td>\n",
       "    </tr>\n",
       "    <tr>\n",
       "      <th>10</th>\n",
       "      <td>ground_truth</td>\n",
       "      <td>int</td>\n",
       "      <td>numerical</td>\n",
       "      <td>label</td>\n",
       "      <td>False</td>\n",
       "      <td>True</td>\n",
       "      <td>[]</td>\n",
       "      <td>True</td>\n",
       "    </tr>\n",
       "    <tr>\n",
       "      <th>11</th>\n",
       "      <td>prediction</td>\n",
       "      <td>float</td>\n",
       "      <td>numerical</td>\n",
       "      <td>score</td>\n",
       "      <td>False</td>\n",
       "      <td>True</td>\n",
       "      <td>[]</td>\n",
       "      <td>True</td>\n",
       "    </tr>\n",
       "  </tbody>\n",
       "</table>\n",
       "</div>"
      ],
      "text/plain": [
       "            name    type    dataClass       role  protectedClass  \\\n",
       "0       FullBath     int    numerical  predictor           False   \n",
       "1       1stFlrSF     int    numerical  predictor           False   \n",
       "2    TotalBsmtSF     int    numerical  predictor           False   \n",
       "3       BsmtQual  string  categorical  predictor           False   \n",
       "4     GarageArea     int    numerical  predictor           False   \n",
       "5     GarageCars     int    numerical  predictor           False   \n",
       "6    KitchenQual  string  categorical  predictor           False   \n",
       "7      ExterQual  string  categorical  predictor           False   \n",
       "8      GrLivArea     int    numerical  predictor           False   \n",
       "9    OverallQual     int    numerical  predictor           False   \n",
       "10  ground_truth     int    numerical      label           False   \n",
       "11    prediction   float    numerical      score           False   \n",
       "\n",
       "    driftCandidate specialValues  scoringOptional  \n",
       "0             True            []            False  \n",
       "1             True            []            False  \n",
       "2             True            []            False  \n",
       "3             True            []            False  \n",
       "4             True            []            False  \n",
       "5             True            []            False  \n",
       "6             True            []            False  \n",
       "7             True            []            False  \n",
       "8             True            []            False  \n",
       "9             True            []            False  \n",
       "10            True            []             True  \n",
       "11            True            []             True  "
      ]
     },
     "execution_count": 4,
     "metadata": {},
     "output_type": "execute_result"
    }
   ],
   "source": [
    "pandas.DataFrame(df_sample_schema['fields'])"
   ]
  },
  {
   "cell_type": "code",
   "execution_count": 5,
   "id": "5b1a57e8-6491-4c16-99ff-b71c604db4ac",
   "metadata": {},
   "outputs": [],
   "source": [
    "with open('df_baseline_scored_input_schema.avsc', 'w') as fp:\n",
    "    json.dump(df_baseline_schema, fp, indent=2)\n",
    "\n",
    "with open('df_sample_scored_input_schema.avsc', 'w') as fp:\n",
    "    json.dump(df_sample_schema, fp, indent=2)"
   ]
  },
  {
   "cell_type": "code",
   "execution_count": 6,
   "id": "ab9d7236-564f-4ae6-b3ea-df493ade8de7",
   "metadata": {},
   "outputs": [
    {
     "data": {
      "text/plain": [
       "True"
      ]
     },
     "execution_count": 6,
     "metadata": {},
     "output_type": "execute_result"
    }
   ],
   "source": [
    "# Check that baseline and sample schemas match\n",
    "pandas.DataFrame(df_baseline_schema[\"fields\"]).equals(pandas.DataFrame(df_sample_schema[\"fields\"]))"
   ]
  },
  {
   "cell_type": "code",
   "execution_count": 7,
   "id": "837a4f95-0428-45d8-8ded-e058a2a15d29",
   "metadata": {},
   "outputs": [
    {
     "data": {
      "text/plain": [
       "{'categorical_columns': ['BsmtQual', 'KitchenQual', 'ExterQual'],\n",
       " 'numerical_columns': ['FullBath',\n",
       "  '1stFlrSF',\n",
       "  'TotalBsmtSF',\n",
       "  'GarageArea',\n",
       "  'GarageCars',\n",
       "  'GrLivArea',\n",
       "  'OverallQual'],\n",
       " 'score_column': 'prediction',\n",
       " 'label_column': 'ground_truth',\n",
       " 'label_type': 'numerical',\n",
       " 'protected_classes': []}"
      ]
     },
     "execution_count": 7,
     "metadata": {},
     "output_type": "execute_result"
    }
   ],
   "source": [
    "fields_df = pandas.DataFrame(df_sample_schema['fields'])\n",
    "fields_df.set_index('name', inplace=True)\n",
    "\n",
    "monitoring_parameters = set_monitoring_parameters(fields_df)\n",
    "\n",
    "monitoring_parameters"
   ]
  },
  {
   "cell_type": "code",
   "execution_count": 8,
   "id": "031e6c1f-b8b3-4b5e-b043-d4581e7b8006",
   "metadata": {},
   "outputs": [],
   "source": [
    "df_baseline[monitoring_parameters['categorical_columns']] = df_baseline[monitoring_parameters['categorical_columns']].fillna('None')\n",
    "df_baseline[monitoring_parameters['numerical_columns']] = df_baseline[monitoring_parameters['numerical_columns']].fillna(0)\n",
    "\n",
    "df_sample[monitoring_parameters['categorical_columns']] = df_sample[monitoring_parameters['categorical_columns']].fillna('None')\n",
    "df_sample[monitoring_parameters['numerical_columns']] = df_sample[monitoring_parameters['numerical_columns']].fillna(0)"
   ]
  },
  {
   "cell_type": "code",
   "execution_count": 9,
   "id": "29bb9e20-ffbb-4bd7-850e-206bffe35664",
   "metadata": {},
   "outputs": [],
   "source": [
    "drift_detector=DriftDetector(\n",
    "    df_baseline=df_baseline, \n",
    "    df_sample=df_sample,\n",
    "    categorical_columns=monitoring_parameters['categorical_columns'], \n",
    "    numerical_columns=monitoring_parameters['numerical_columns'], \n",
    ")"
   ]
  },
  {
   "cell_type": "code",
   "execution_count": 10,
   "id": "265417ed-8bc4-484a-9f22-f2180b33e3e7",
   "metadata": {},
   "outputs": [
    {
     "name": "stdout",
     "output_type": "stream",
     "text": [
      "Epps-Singleton Metric\n",
      "FullBath_p-value 0.020239243951419635\n",
      "OverallQual_p-value 0.0387916619344517\n",
      "\n",
      "Kolmogorov–Smirnov Metric\n",
      "\n"
     ]
    },
    {
     "name": "stderr",
     "output_type": "stream",
     "text": [
      "/home/royk/.local/lib/python3.8/site-packages/scipy/stats/_hypotests.py:119: UserWarning: Estimated covariance matrix does not have full rank. This indicates a bad choice of the input t and the test might not be consistent.\n",
      "  warnings.warn('Estimated covariance matrix does not have full rank. '\n"
     ]
    }
   ],
   "source": [
    "for metric in ['es', 'ks']:\n",
    "    if metric == 'es':\n",
    "        print('Epps-Singleton Metric')\n",
    "    else:\n",
    "        print('Kolmogorov–Smirnov Metric')\n",
    "    for k,v in drift_detector.calculate_drift(pre_defined_metric=metric).items():\n",
    "        try:\n",
    "            if v < 0.05:\n",
    "                print(k, v)\n",
    "        except:\n",
    "            pass\n",
    "    print()"
   ]
  },
  {
   "cell_type": "code",
   "execution_count": 11,
   "id": "6449f084-dde1-413d-9914-831fd65bf375",
   "metadata": {},
   "outputs": [
    {
     "data": {
      "text/plain": [
       "{'FullBath': 0.11957787972603248,\n",
       " 'GarageCars': 0.11749926193277065,\n",
       " 'OverallQual': 0.07036324532994655,\n",
       " 'GrLivArea': 0.0700550951578258,\n",
       " '1stFlrSF': 0.0646760461686575,\n",
       " 'GarageArea': 0.060563379308929396,\n",
       " 'TotalBsmtSF': 0.05988656608945518,\n",
       " 'KitchenQual': 0.05657490759994198,\n",
       " 'BsmtQual': 0.04502488720532775,\n",
       " 'ExterQual': 0.031005711671486153}"
      ]
     },
     "execution_count": 11,
     "metadata": {},
     "output_type": "execute_result"
    }
   ],
   "source": [
    "drift_detector.calculate_drift(pre_defined_metric='JENSEN-SHANNON')"
   ]
  },
  {
   "cell_type": "code",
   "execution_count": 12,
   "id": "afc6b59a-5078-43b2-b1c6-02428fb5688b",
   "metadata": {},
   "outputs": [],
   "source": [
    "concept_drift_detector=ConceptDriftDetector(\n",
    "    df_baseline=df_baseline, \n",
    "    df_sample=df_sample, \n",
    "    target_column=monitoring_parameters['score_column'],\n",
    "    label_type=monitoring_parameters['label_type']\n",
    ")"
   ]
  },
  {
   "cell_type": "code",
   "execution_count": 13,
   "id": "9e92db49-3ed5-4552-985e-0505be0ca308",
   "metadata": {},
   "outputs": [
    {
     "data": {
      "text/plain": [
       "{'prediction': 0.05832835603654477}"
      ]
     },
     "execution_count": 13,
     "metadata": {},
     "output_type": "execute_result"
    }
   ],
   "source": [
    "concept_drift_detector.calculate_concept_drift(pre_defined_metric='jensen-shannon')"
   ]
  },
  {
   "cell_type": "code",
   "execution_count": 15,
   "id": "66fa337b-2e60-48df-b5ad-afeaec31694c",
   "metadata": {},
   "outputs": [
    {
     "name": "stdout",
     "output_type": "stream",
     "text": [
      "Epps-Singleton Metric\n",
      "\n",
      "\tConcept drift not detected\n",
      "\n",
      "Kolmogorov–Smirnov Metric\n",
      "\n",
      "\tConcept drift not detected\n",
      "\n"
     ]
    }
   ],
   "source": [
    "for metric in ['es', 'ks']:\n",
    "    count = 0\n",
    "    if metric == 'es':\n",
    "        print('Epps-Singleton Metric')\n",
    "        print()\n",
    "    else:\n",
    "        print('Kolmogorov–Smirnov Metric')\n",
    "        print()\n",
    "    for k,v in concept_drift_detector.calculate_concept_drift(pre_defined_metric=metric).items():\n",
    "        try:\n",
    "            if v < 0.05:\n",
    "                count += 1\n",
    "                print(k, v)\n",
    "        except:\n",
    "            pass\n",
    "    if count == 0:\n",
    "        print('\\tConcept drift not detected')\n",
    "    print()"
   ]
  },
  {
   "cell_type": "code",
   "execution_count": null,
   "id": "f4723cbb-b651-4bab-8f4c-0ef5af4fdef4",
   "metadata": {},
   "outputs": [],
   "source": []
  }
 ],
 "metadata": {
  "kernelspec": {
   "display_name": "Python 3",
   "language": "python",
   "name": "python3"
  },
  "language_info": {
   "codemirror_mode": {
    "name": "ipython",
    "version": 3
   },
   "file_extension": ".py",
   "mimetype": "text/x-python",
   "name": "python",
   "nbconvert_exporter": "python",
   "pygments_lexer": "ipython3",
   "version": "3.8.5"
  }
 },
 "nbformat": 4,
 "nbformat_minor": 5
}
