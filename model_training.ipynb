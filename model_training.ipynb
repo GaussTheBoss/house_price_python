{
 "cells": [
  {
   "cell_type": "markdown",
   "id": "b14f4b06-0348-4da2-9250-92d2814f2d1b",
   "metadata": {},
   "source": [
    "# From Notebook to ModelOp Center:\n",
    "\n",
    "## Training, Evaluating, and Conforming a Model for Deployment\n",
    "In this notebook, we demonstrate the process of\n",
    "1. simple cleaning and feature selection of a dataset,\n",
    "2. training a model,\n",
    "3. evaluating model performance,\n",
    "4. saving (pickling) the model (and other assets) for later use,\n",
    "5. and conforming the code into MOC standard\n",
    "\n",
    "More specifically, we will train a linear regression predictor on the Ames Housing Data dataset."
   ]
  },
  {
   "cell_type": "markdown",
   "id": "babb594e-c9d4-4970-bbc1-9241ea945259",
   "metadata": {},
   "source": [
    "Let's load in the necessary libraries. We will be using `sklearn` to train the model."
   ]
  },
  {
   "cell_type": "code",
   "execution_count": 1,
   "id": "12863819-653e-4f86-88ec-62401f328550",
   "metadata": {},
   "outputs": [],
   "source": [
    "import pickle\n",
    "import pandas\n",
    "import numpy\n",
    "import copy\n",
    "import seaborn\n",
    "\n",
    "from sklearn import set_config\n",
    "from sklearn.linear_model import LassoCV, LinearRegression\n",
    "from sklearn.model_selection import train_test_split, cross_val_score\n",
    "from sklearn.preprocessing import StandardScaler\n",
    "from sklearn.metrics import r2_score, mean_squared_error, mean_absolute_error\n",
    "\n",
    "set_config(display='diagram')\n",
    "pandas.options.mode.chained_assignment = None"
   ]
  },
  {
   "cell_type": "markdown",
   "id": "f2609ff9-67af-4bb8-842b-cb7495b6c7e6",
   "metadata": {},
   "source": [
    "**I - Data Cleaning and Feature Selection**"
   ]
  },
  {
   "cell_type": "markdown",
   "id": "56875f16-a0b1-4a32-be46-0034cf69522f",
   "metadata": {},
   "source": [
    "The **Ames Housing Data** dataset can be found [at this link](https://www.kaggle.com/c/house-prices-advanced-regression-techniques/data). Download the train dataset (we will be using it exclusively as those have all have an actual SalePrice value, our ground truth to use with the monitoring capabilities of ModelOp Center) and load it into a Pandas DataFrame."
   ]
  },
  {
   "cell_type": "code",
   "execution_count": 2,
   "id": "8e204a16-e80f-46b0-af4b-a58ca6ca2c6f",
   "metadata": {},
   "outputs": [],
   "source": [
    "df = pandas.read_csv('./house_price_data.csv')"
   ]
  },
  {
   "cell_type": "code",
   "execution_count": 3,
   "id": "786b47b6-0606-439a-a828-dcd839c66a10",
   "metadata": {},
   "outputs": [
    {
     "data": {
      "text/plain": [
       "array(['Id', 'MSSubClass', 'MSZoning', 'LotFrontage', 'LotArea', 'Street',\n",
       "       'Alley', 'LotShape', 'LandContour', 'Utilities', 'LotConfig',\n",
       "       'LandSlope', 'Neighborhood', 'Condition1', 'Condition2',\n",
       "       'BldgType', 'HouseStyle', 'OverallQual', 'OverallCond',\n",
       "       'YearBuilt', 'YearRemodAdd', 'RoofStyle', 'RoofMatl',\n",
       "       'Exterior1st', 'Exterior2nd', 'MasVnrType', 'MasVnrArea',\n",
       "       'ExterQual', 'ExterCond', 'Foundation', 'BsmtQual', 'BsmtCond',\n",
       "       'BsmtExposure', 'BsmtFinType1', 'BsmtFinSF1', 'BsmtFinType2',\n",
       "       'BsmtFinSF2', 'BsmtUnfSF', 'TotalBsmtSF', 'Heating', 'HeatingQC',\n",
       "       'CentralAir', 'Electrical', '1stFlrSF', '2ndFlrSF', 'LowQualFinSF',\n",
       "       'GrLivArea', 'BsmtFullBath', 'BsmtHalfBath', 'FullBath',\n",
       "       'HalfBath', 'BedroomAbvGr', 'KitchenAbvGr', 'KitchenQual',\n",
       "       'TotRmsAbvGrd', 'Functional', 'Fireplaces', 'FireplaceQu',\n",
       "       'GarageType', 'GarageYrBlt', 'GarageFinish', 'GarageCars',\n",
       "       'GarageArea', 'GarageQual', 'GarageCond', 'PavedDrive',\n",
       "       'WoodDeckSF', 'OpenPorchSF', 'EnclosedPorch', '3SsnPorch',\n",
       "       'ScreenPorch', 'PoolArea', 'PoolQC', 'Fence', 'MiscFeature',\n",
       "       'MiscVal', 'MoSold', 'YrSold', 'SaleType', 'SaleCondition',\n",
       "       'SalePrice'], dtype=object)"
      ]
     },
     "execution_count": 3,
     "metadata": {},
     "output_type": "execute_result"
    }
   ],
   "source": [
    "df.columns.values"
   ]
  },
  {
   "cell_type": "markdown",
   "id": "1cd1ecfd-4a22-4592-8267-25b983a7a033",
   "metadata": {},
   "source": [
    "Let's look at the top of the data:"
   ]
  },
  {
   "cell_type": "code",
   "execution_count": 4,
   "id": "9fe9c8d6-f546-4f6c-a136-60473a1423cb",
   "metadata": {},
   "outputs": [
    {
     "data": {
      "text/html": [
       "<div>\n",
       "<style scoped>\n",
       "    .dataframe tbody tr th:only-of-type {\n",
       "        vertical-align: middle;\n",
       "    }\n",
       "\n",
       "    .dataframe tbody tr th {\n",
       "        vertical-align: top;\n",
       "    }\n",
       "\n",
       "    .dataframe thead th {\n",
       "        text-align: right;\n",
       "    }\n",
       "</style>\n",
       "<table border=\"1\" class=\"dataframe\">\n",
       "  <thead>\n",
       "    <tr style=\"text-align: right;\">\n",
       "      <th></th>\n",
       "      <th>Id</th>\n",
       "      <th>MSSubClass</th>\n",
       "      <th>MSZoning</th>\n",
       "      <th>LotFrontage</th>\n",
       "      <th>LotArea</th>\n",
       "      <th>Street</th>\n",
       "      <th>Alley</th>\n",
       "      <th>LotShape</th>\n",
       "      <th>LandContour</th>\n",
       "      <th>Utilities</th>\n",
       "      <th>...</th>\n",
       "      <th>PoolArea</th>\n",
       "      <th>PoolQC</th>\n",
       "      <th>Fence</th>\n",
       "      <th>MiscFeature</th>\n",
       "      <th>MiscVal</th>\n",
       "      <th>MoSold</th>\n",
       "      <th>YrSold</th>\n",
       "      <th>SaleType</th>\n",
       "      <th>SaleCondition</th>\n",
       "      <th>SalePrice</th>\n",
       "    </tr>\n",
       "  </thead>\n",
       "  <tbody>\n",
       "    <tr>\n",
       "      <th>0</th>\n",
       "      <td>1</td>\n",
       "      <td>60</td>\n",
       "      <td>RL</td>\n",
       "      <td>65.0</td>\n",
       "      <td>8450</td>\n",
       "      <td>Pave</td>\n",
       "      <td>NaN</td>\n",
       "      <td>Reg</td>\n",
       "      <td>Lvl</td>\n",
       "      <td>AllPub</td>\n",
       "      <td>...</td>\n",
       "      <td>0</td>\n",
       "      <td>NaN</td>\n",
       "      <td>NaN</td>\n",
       "      <td>NaN</td>\n",
       "      <td>0</td>\n",
       "      <td>2</td>\n",
       "      <td>2008</td>\n",
       "      <td>WD</td>\n",
       "      <td>Normal</td>\n",
       "      <td>208500</td>\n",
       "    </tr>\n",
       "    <tr>\n",
       "      <th>1</th>\n",
       "      <td>2</td>\n",
       "      <td>20</td>\n",
       "      <td>RL</td>\n",
       "      <td>80.0</td>\n",
       "      <td>9600</td>\n",
       "      <td>Pave</td>\n",
       "      <td>NaN</td>\n",
       "      <td>Reg</td>\n",
       "      <td>Lvl</td>\n",
       "      <td>AllPub</td>\n",
       "      <td>...</td>\n",
       "      <td>0</td>\n",
       "      <td>NaN</td>\n",
       "      <td>NaN</td>\n",
       "      <td>NaN</td>\n",
       "      <td>0</td>\n",
       "      <td>5</td>\n",
       "      <td>2007</td>\n",
       "      <td>WD</td>\n",
       "      <td>Normal</td>\n",
       "      <td>181500</td>\n",
       "    </tr>\n",
       "    <tr>\n",
       "      <th>2</th>\n",
       "      <td>3</td>\n",
       "      <td>60</td>\n",
       "      <td>RL</td>\n",
       "      <td>68.0</td>\n",
       "      <td>11250</td>\n",
       "      <td>Pave</td>\n",
       "      <td>NaN</td>\n",
       "      <td>IR1</td>\n",
       "      <td>Lvl</td>\n",
       "      <td>AllPub</td>\n",
       "      <td>...</td>\n",
       "      <td>0</td>\n",
       "      <td>NaN</td>\n",
       "      <td>NaN</td>\n",
       "      <td>NaN</td>\n",
       "      <td>0</td>\n",
       "      <td>9</td>\n",
       "      <td>2008</td>\n",
       "      <td>WD</td>\n",
       "      <td>Normal</td>\n",
       "      <td>223500</td>\n",
       "    </tr>\n",
       "    <tr>\n",
       "      <th>3</th>\n",
       "      <td>4</td>\n",
       "      <td>70</td>\n",
       "      <td>RL</td>\n",
       "      <td>60.0</td>\n",
       "      <td>9550</td>\n",
       "      <td>Pave</td>\n",
       "      <td>NaN</td>\n",
       "      <td>IR1</td>\n",
       "      <td>Lvl</td>\n",
       "      <td>AllPub</td>\n",
       "      <td>...</td>\n",
       "      <td>0</td>\n",
       "      <td>NaN</td>\n",
       "      <td>NaN</td>\n",
       "      <td>NaN</td>\n",
       "      <td>0</td>\n",
       "      <td>2</td>\n",
       "      <td>2006</td>\n",
       "      <td>WD</td>\n",
       "      <td>Abnorml</td>\n",
       "      <td>140000</td>\n",
       "    </tr>\n",
       "    <tr>\n",
       "      <th>4</th>\n",
       "      <td>5</td>\n",
       "      <td>60</td>\n",
       "      <td>RL</td>\n",
       "      <td>84.0</td>\n",
       "      <td>14260</td>\n",
       "      <td>Pave</td>\n",
       "      <td>NaN</td>\n",
       "      <td>IR1</td>\n",
       "      <td>Lvl</td>\n",
       "      <td>AllPub</td>\n",
       "      <td>...</td>\n",
       "      <td>0</td>\n",
       "      <td>NaN</td>\n",
       "      <td>NaN</td>\n",
       "      <td>NaN</td>\n",
       "      <td>0</td>\n",
       "      <td>12</td>\n",
       "      <td>2008</td>\n",
       "      <td>WD</td>\n",
       "      <td>Normal</td>\n",
       "      <td>250000</td>\n",
       "    </tr>\n",
       "  </tbody>\n",
       "</table>\n",
       "<p>5 rows × 81 columns</p>\n",
       "</div>"
      ],
      "text/plain": [
       "   Id  MSSubClass MSZoning  LotFrontage  LotArea Street Alley LotShape  \\\n",
       "0   1          60       RL         65.0     8450   Pave   NaN      Reg   \n",
       "1   2          20       RL         80.0     9600   Pave   NaN      Reg   \n",
       "2   3          60       RL         68.0    11250   Pave   NaN      IR1   \n",
       "3   4          70       RL         60.0     9550   Pave   NaN      IR1   \n",
       "4   5          60       RL         84.0    14260   Pave   NaN      IR1   \n",
       "\n",
       "  LandContour Utilities  ... PoolArea PoolQC Fence MiscFeature MiscVal MoSold  \\\n",
       "0         Lvl    AllPub  ...        0    NaN   NaN         NaN       0      2   \n",
       "1         Lvl    AllPub  ...        0    NaN   NaN         NaN       0      5   \n",
       "2         Lvl    AllPub  ...        0    NaN   NaN         NaN       0      9   \n",
       "3         Lvl    AllPub  ...        0    NaN   NaN         NaN       0      2   \n",
       "4         Lvl    AllPub  ...        0    NaN   NaN         NaN       0     12   \n",
       "\n",
       "  YrSold  SaleType  SaleCondition  SalePrice  \n",
       "0   2008        WD         Normal     208500  \n",
       "1   2007        WD         Normal     181500  \n",
       "2   2008        WD         Normal     223500  \n",
       "3   2006        WD        Abnorml     140000  \n",
       "4   2008        WD         Normal     250000  \n",
       "\n",
       "[5 rows x 81 columns]"
      ]
     },
     "execution_count": 4,
     "metadata": {},
     "output_type": "execute_result"
    }
   ],
   "source": [
    "df.head()"
   ]
  },
  {
   "cell_type": "markdown",
   "id": "581b0007-5c5c-415f-af54-80c128acda68",
   "metadata": {},
   "source": [
    "Before proceeding, let's split the original dataset into two sets: a **baseline** set which will be used as a reference set, and a **sample** set which will mimic input data to the model once the model is in use.\n",
    "\n",
    "We'l also prepare a `_scored` version of the dataframes for later use during our MOC monitoring phase. In that DataFrame, we'll mainly be using the `ground_truth`, which in our case is `SalePrice`, and `predictions` (later to be added) to compare drift, bias, and other metrics that we will want to monitor in the lifecycle of the model."
   ]
  },
  {
   "cell_type": "code",
   "execution_count": 5,
   "id": "ff1d4f07-92de-41cf-ac12-0c6849be5256",
   "metadata": {},
   "outputs": [],
   "source": [
    "df_baseline, df_sample = train_test_split(df, train_size=0.8, random_state=7)\n",
    "\n",
    "df_baseline_scored = df_baseline.copy(deep=True)\n",
    "df_sample_scored = df_sample.copy(deep=True)\n",
    "\n",
    "df_baseline.to_json('df_baseline.json', orient='records', lines=True)\n",
    "df_sample.to_json('df_sample.json', orient='records', lines=True)"
   ]
  },
  {
   "cell_type": "markdown",
   "id": "68b99bf6-0d23-460e-9156-14de953405d4",
   "metadata": {},
   "source": [
    "Let's **clean up** the data. There are quite a few null values in the dataset and we'll fill them in with appropriate values. Note that these steps will also be necessary once we want to write code that conforms to ModelOp standards."
   ]
  },
  {
   "cell_type": "code",
   "execution_count": 6,
   "id": "e710565a-66f7-4a94-88ea-b404512dcf6b",
   "metadata": {},
   "outputs": [
    {
     "name": "stdout",
     "output_type": "stream",
     "text": [
      "Numerical features that contain 1 or more missing values:\n",
      "-  LotFrontage\n",
      "-  MasVnrArea\n",
      "-  GarageYrBlt\n"
     ]
    }
   ],
   "source": [
    "print('Numerical features that contain 1 or more missing values:')\n",
    "for col, dtype in df.dtypes.items():\n",
    "    if dtype != 'object' and df[col].isna().sum() > 0:\n",
    "        print('- ', col)"
   ]
  },
  {
   "cell_type": "code",
   "execution_count": 7,
   "id": "cddebcdf-acd7-4c22-8fe8-1724b6b5a553",
   "metadata": {},
   "outputs": [],
   "source": [
    "# imputing missing GarageYrBlt values with corresponding YrBlt values\n",
    "df_baseline.loc[:,'GarageYrBlt'] = [df_baseline.loc[i, 'GarageYrBlt'] if not x else df_baseline.loc[i, 'YearBuilt'] for i, x in df_baseline.loc[:,'GarageYrBlt'].isna().items()]\n",
    "df_sample.loc[:,'GarageYrBlt'] = [df_sample.loc[i, 'GarageYrBlt'] if not x else df_sample.loc[i, 'YearBuilt'] for i, x in df_sample.loc[:,'GarageYrBlt'].isna().items()]"
   ]
  },
  {
   "cell_type": "code",
   "execution_count": 8,
   "id": "9f049f4e-6690-4e4e-965d-c07fd08eaaa5",
   "metadata": {},
   "outputs": [],
   "source": [
    "# imputing `MasVnrArea` and `LotFrontage` missing values with 0\n",
    "for col in ['MasVnrArea', 'LotFrontage']:\n",
    "    df_baseline.loc[:, col] = df_baseline.loc[:, col].fillna(0)\n",
    "    df_sample.loc[:, col] = df_sample.loc[:, col].fillna(0)"
   ]
  },
  {
   "cell_type": "code",
   "execution_count": 9,
   "id": "28e08268-933d-49aa-8154-3fa41d87f431",
   "metadata": {},
   "outputs": [],
   "source": [
    "# imputing the rest of the missing values in categorical features with 'None'\n",
    "for col in list(df.columns):\n",
    "    df_baseline.loc[:, col] = df_baseline.loc[:, col].fillna('None')\n",
    "    df_sample.loc[:, col] = df_sample.loc[:, col].fillna('None')"
   ]
  },
  {
   "cell_type": "markdown",
   "id": "52016d0b-696d-4a8d-b3ac-81a2b1feef2c",
   "metadata": {},
   "source": [
    "Next, let's write up some functions that will convert some categorical features into numerical features, then apply those functions to our data."
   ]
  },
  {
   "cell_type": "code",
   "execution_count": 10,
   "id": "ce2e5998-d902-4d3e-9f43-eb6ddba9ad3a",
   "metadata": {
    "tags": []
   },
   "outputs": [],
   "source": [
    "# Many columns use this generic scale\n",
    "def generic(x):\n",
    "    if x == 'Ex':\n",
    "        return 4\n",
    "    elif x == 'Gd':\n",
    "        return 3\n",
    "    elif x == 'TA':\n",
    "        return 2\n",
    "    elif x =='Fa':\n",
    "        return 1\n",
    "    else:\n",
    "        return 0\n",
    "\n",
    "# conversion for the 'FinType' column\n",
    "def fin_type(x):\n",
    "    if x == 'GLQ':\n",
    "        return 6\n",
    "    elif x == 'ALQ':\n",
    "        return 5\n",
    "    elif x == 'BLQ':\n",
    "        return 4\n",
    "    elif x == 'Rec':\n",
    "        return 3\n",
    "    elif x == 'LwQ':\n",
    "        return 2\n",
    "    elif x == 'Unf':\n",
    "        return 1\n",
    "    else:\n",
    "        return 0\n",
    "\n",
    "# conversion for the 'Functional' column\n",
    "def functional(x):\n",
    "    if x == 'Typ':\n",
    "        return 7\n",
    "    elif x == 'Min1':\n",
    "        return 6\n",
    "    elif x == 'Min2':\n",
    "        return 5\n",
    "    elif x == 'Mod':\n",
    "        return 4\n",
    "    elif x == 'Maj1':\n",
    "        return 3\n",
    "    elif x == 'Maj2':\n",
    "        return 2\n",
    "    elif x == 'Sev':\n",
    "        return 1\n",
    "    else:\n",
    "        return 0\n",
    "\n",
    "# conversion for the 'GarageFinish' column\n",
    "def garage_finish(x):\n",
    "    if x == 'Fin':\n",
    "        return 3\n",
    "    elif x == 'RFn':\n",
    "        return 2\n",
    "    elif x == 'Unf':\n",
    "        return 1\n",
    "    else:\n",
    "        return 0"
   ]
  },
  {
   "cell_type": "code",
   "execution_count": 11,
   "id": "814f6697-7381-4bf1-aaab-6e19d0fb44cb",
   "metadata": {},
   "outputs": [],
   "source": [
    "# Generic conversions\n",
    "generic_columns = ['ExterQual', 'ExterCond', 'BsmtQual', 'BsmtCond', 'HeatingQC', 'KitchenQual', 'FireplaceQu', 'GarageQual', 'GarageCond', 'PoolQC']\n",
    "for col in generic_columns:\n",
    "    df_baseline.loc[:, col] = df_baseline[col].apply(generic)\n",
    "    df_sample.loc[:, col] = df_sample[col].apply(generic)"
   ]
  },
  {
   "cell_type": "code",
   "execution_count": 12,
   "id": "fb41c954-483b-450f-86e4-eff7e17f6005",
   "metadata": {},
   "outputs": [],
   "source": [
    "# FinType conversions\n",
    "fintype_columns = ['BsmtFinType1', 'BsmtFinType2']\n",
    "for col in fintype_columns:\n",
    "    df_baseline.loc[:, col] = df_baseline[col].apply(fin_type)\n",
    "    df_sample.loc[:, col] = df_sample[col].apply(fin_type)"
   ]
  },
  {
   "cell_type": "code",
   "execution_count": 13,
   "id": "69745cb9-cb9a-4b34-9c83-20a2a40db002",
   "metadata": {},
   "outputs": [],
   "source": [
    "# Functional conversion\n",
    "df_baseline.loc[:, 'Functional'] = df_baseline['Functional'].apply(functional)\n",
    "df_sample.loc[:, 'Functional'] = df_sample['Functional'].apply(functional)"
   ]
  },
  {
   "cell_type": "code",
   "execution_count": 14,
   "id": "61ebe4c6-242c-43bd-85a6-853e1d797365",
   "metadata": {},
   "outputs": [],
   "source": [
    "# GarageFinish conversion\n",
    "df_baseline.loc[:, 'GarageFinish'] = df_baseline['GarageFinish'].apply(garage_finish)\n",
    "df_sample.loc[:, 'GarageFinish'] = df_sample['GarageFinish'].apply(garage_finish)"
   ]
  },
  {
   "cell_type": "markdown",
   "id": "5c0750ca-de06-4f37-988f-8ff52dffdaef",
   "metadata": {},
   "source": [
    "We also have the `MSSubClass` numerical column which should be treated as a categorical column. We will convert this into an onject column to later be one-hot encoded."
   ]
  },
  {
   "cell_type": "code",
   "execution_count": 15,
   "id": "e7f9420d-7498-4520-b0ab-2a1353a67728",
   "metadata": {},
   "outputs": [],
   "source": [
    "df_baseline['MSSubClass'] = df_baseline['MSSubClass'].astype(str)\n",
    "df_sample['MSSubClass'] = df_sample['MSSubClass'].astype(str)"
   ]
  },
  {
   "cell_type": "markdown",
   "id": "8c9fdbe5-f8af-4d9d-b333-14cb0f3c7cb1",
   "metadata": {},
   "source": [
    "Our data still contains non-predictive features, such as `Id` and `SalePrice`. We remove those now."
   ]
  },
  {
   "cell_type": "code",
   "execution_count": 16,
   "id": "b504c5a6-f2f4-46c9-bfbb-305190143a10",
   "metadata": {},
   "outputs": [],
   "source": [
    "predictive_features = [\n",
    "    f for f in list(df.columns.values)\n",
    "    if f not in ['Id', 'SalePrice']\n",
    "]"
   ]
  },
  {
   "cell_type": "markdown",
   "id": "1caa7ec5-eee8-48b3-b927-1dcdb95aa806",
   "metadata": {},
   "source": [
    "Everything looks good; we'll proceed with model training. We need to specify **predictive** and **responsive** variables for each of the training and test sets. We'll set those by filtering the baseline and sample sets."
   ]
  },
  {
   "cell_type": "code",
   "execution_count": 17,
   "id": "8f451b1a-ce10-4209-a6bb-9648aa86ebc3",
   "metadata": {},
   "outputs": [],
   "source": [
    "X_train = df_baseline[predictive_features]\n",
    "X_test = df_sample[predictive_features]\n",
    "\n",
    "y_train = df_baseline['SalePrice']\n",
    "y_test = df_sample['SalePrice']"
   ]
  },
  {
   "cell_type": "markdown",
   "id": "f5825229-5832-434d-8d86-c79b58993e9e",
   "metadata": {},
   "source": [
    "Let's take a look at which columns contain muerical data and which contain categorical data. Some categorical features can easily be converted to numerical, as they might hold some order of value. Other categorical features will have to be one-hot encoded."
   ]
  },
  {
   "cell_type": "code",
   "execution_count": 18,
   "id": "d66a56ec-68b1-4b27-b125-ac75c004b8cd",
   "metadata": {},
   "outputs": [],
   "source": [
    "numerical_features = []\n",
    "categorical_features = []\n",
    "for i,j in zip(X_train.dtypes.index, X_train.dtypes.values):\n",
    "    if j=='object':\n",
    "        categorical_features.append(i)\n",
    "    else:\n",
    "        numerical_features.append(i)"
   ]
  },
  {
   "cell_type": "markdown",
   "id": "3d136d1a-89c6-4875-9a24-c6e7bad7797c",
   "metadata": {},
   "source": [
    "**Categorical Features**"
   ]
  },
  {
   "cell_type": "code",
   "execution_count": 19,
   "id": "46307008-c9a2-4a13-ad2e-7402dfd8761a",
   "metadata": {},
   "outputs": [
    {
     "name": "stdout",
     "output_type": "stream",
     "text": [
      "['MSSubClass', 'MSZoning', 'Street', 'Alley', 'LotShape', 'LandContour', 'Utilities', 'LotConfig', 'LandSlope', 'Neighborhood', 'Condition1', 'Condition2', 'BldgType', 'HouseStyle', 'RoofStyle', 'RoofMatl', 'Exterior1st', 'Exterior2nd', 'MasVnrType', 'Foundation', 'BsmtExposure', 'Heating', 'CentralAir', 'Electrical', 'GarageType', 'PavedDrive', 'Fence', 'MiscFeature', 'SaleType', 'SaleCondition']\n"
     ]
    }
   ],
   "source": [
    "print(categorical_features)"
   ]
  },
  {
   "cell_type": "markdown",
   "id": "6760b8f8-1f41-4557-9e32-d5abab6e864d",
   "metadata": {},
   "source": [
    "**Numerical Features**"
   ]
  },
  {
   "cell_type": "code",
   "execution_count": 20,
   "id": "fe19385c-d6ef-4526-b7e8-8c7703553e3a",
   "metadata": {},
   "outputs": [
    {
     "name": "stdout",
     "output_type": "stream",
     "text": [
      "['LotFrontage', 'LotArea', 'OverallQual', 'OverallCond', 'YearBuilt', 'YearRemodAdd', 'MasVnrArea', 'ExterQual', 'ExterCond', 'BsmtQual', 'BsmtCond', 'BsmtFinType1', 'BsmtFinSF1', 'BsmtFinType2', 'BsmtFinSF2', 'BsmtUnfSF', 'TotalBsmtSF', 'HeatingQC', '1stFlrSF', '2ndFlrSF', 'LowQualFinSF', 'GrLivArea', 'BsmtFullBath', 'BsmtHalfBath', 'FullBath', 'HalfBath', 'BedroomAbvGr', 'KitchenAbvGr', 'KitchenQual', 'TotRmsAbvGrd', 'Functional', 'Fireplaces', 'FireplaceQu', 'GarageYrBlt', 'GarageFinish', 'GarageCars', 'GarageArea', 'GarageQual', 'GarageCond', 'WoodDeckSF', 'OpenPorchSF', 'EnclosedPorch', '3SsnPorch', 'ScreenPorch', 'PoolArea', 'PoolQC', 'MiscVal', 'MoSold', 'YrSold']\n"
     ]
    }
   ],
   "source": [
    "print(numerical_features)"
   ]
  },
  {
   "cell_type": "markdown",
   "id": "64b9ae22-a411-4d3f-aee8-f7195702024e",
   "metadata": {},
   "source": [
    "Since our data contains categorical features, we will need to one-hot encode using `pandas.get_dummies()`. There are also some "
   ]
  },
  {
   "cell_type": "code",
   "execution_count": 21,
   "id": "f702ff6d-ea04-44ff-a10b-699c74a8ea8c",
   "metadata": {},
   "outputs": [],
   "source": [
    "# One hot encoding with pandas.get_dummies()\n",
    "X_train = pandas.get_dummies(X_train, columns=categorical_features)\n",
    "X_test = pandas.get_dummies(X_test, columns=categorical_features)"
   ]
  },
  {
   "cell_type": "markdown",
   "id": "b68f6c9e-8908-4a74-af68-c9cece202c24",
   "metadata": {},
   "source": [
    "Let's move on to **feature selection**. We want our final model to only have a limited number of features, as too many features will cause the model to overfit, though too little will not allow our model to perform well. We'll take a look at the correlation of `SalePrice` to all other columns to determine which ones have the most predictive power, and choose 10 features to predict with."
   ]
  },
  {
   "cell_type": "code",
   "execution_count": 22,
   "id": "6a542302-65d9-4359-ba95-48172ddaa9e6",
   "metadata": {},
   "outputs": [],
   "source": [
    "X_train['SalePrice'] = df['SalePrice']"
   ]
  },
  {
   "cell_type": "code",
   "execution_count": 23,
   "id": "f5f53142-f8df-4b27-a0f2-62707b3340fe",
   "metadata": {},
   "outputs": [],
   "source": [
    "train_encoded_columns = list(X_train.corr()['SalePrice'][abs(X_train.corr()['SalePrice'])>0.55].sort_values().index)"
   ]
  },
  {
   "cell_type": "code",
   "execution_count": 24,
   "id": "6b13eeb6-0211-413d-a7c5-6e1b888a1e96",
   "metadata": {},
   "outputs": [],
   "source": [
    "train_encoded_columns.remove('SalePrice')"
   ]
  },
  {
   "cell_type": "code",
   "execution_count": 25,
   "id": "eb747668-5ddb-4140-9c06-4f8a5c0d1be8",
   "metadata": {},
   "outputs": [
    {
     "data": {
      "text/plain": [
       "['FullBath',\n",
       " '1stFlrSF',\n",
       " 'TotalBsmtSF',\n",
       " 'BsmtQual',\n",
       " 'GarageArea',\n",
       " 'GarageCars',\n",
       " 'KitchenQual',\n",
       " 'ExterQual',\n",
       " 'GrLivArea',\n",
       " 'OverallQual']"
      ]
     },
     "execution_count": 25,
     "metadata": {},
     "output_type": "execute_result"
    }
   ],
   "source": [
    "# the final list of encoded columns\n",
    "train_encoded_columns"
   ]
  },
  {
   "cell_type": "markdown",
   "id": "30b68eb2-008a-4730-ad37-955e581e6646",
   "metadata": {},
   "source": [
    "**II - Training the model**"
   ]
  },
  {
   "cell_type": "markdown",
   "id": "af72b410-8c79-4531-a778-d250bd066014",
   "metadata": {},
   "source": [
    "Let's move on to training the model. Let's first restrict our feature space to only be that of the final list of columns. We'll be saving this list, as we'll need it when we deploy the model."
   ]
  },
  {
   "cell_type": "code",
   "execution_count": 26,
   "id": "a5201b61-22ea-4412-ba19-bf7d8c526224",
   "metadata": {},
   "outputs": [],
   "source": [
    "# restricting X_train and X_test columns to only be final list of columns\n",
    "X_train = X_train[train_encoded_columns]\n",
    "X_test = X_test[train_encoded_columns]\n",
    "\n",
    "# Saving the final list of encoded columns\n",
    "pickle.dump(train_encoded_columns, open('train_encoded_columns.pickle', 'wb'))"
   ]
  },
  {
   "cell_type": "markdown",
   "id": "97350b7a-92be-48d1-9e4d-495e79a2a1c5",
   "metadata": {},
   "source": [
    "Another thing we can do to make our model a bit more performant, as well as explainable, is to standardize the features. This will allow us to interpret the weights on each feature directly against each other."
   ]
  },
  {
   "cell_type": "code",
   "execution_count": 27,
   "id": "7c64cd5d-b465-4022-8d63-7b7638f91a03",
   "metadata": {},
   "outputs": [],
   "source": [
    "ss = StandardScaler()\n",
    "X_train = ss.fit_transform(X_train)\n",
    "X_test = ss.transform(X_test)\n",
    "\n",
    "pickle.dump(ss, open('standard_scaler.pickle', 'wb'))"
   ]
  },
  {
   "cell_type": "markdown",
   "id": "4a788136-36f4-4d51-8fc2-4c23d0e5d2d5",
   "metadata": {},
   "source": [
    "One last thing we can do is to apply a logarithm to `SalePrice`. If we look at the distribution of values for `SalePrice`, we can notice that there is a right skew, with values at the top of the distribution quite distant from the average value of the distribution."
   ]
  },
  {
   "cell_type": "code",
   "execution_count": 28,
   "id": "ee18d6e7-dbe7-4686-85a3-6393dfcb3469",
   "metadata": {},
   "outputs": [
    {
     "data": {
      "image/png": "[encoded data removed]",
      "text/plain": [
       "<Figure size 432x288 with 1 Axes>"
      ]
     },
     "metadata": {
      "needs_background": "light"
     },
     "output_type": "display_data"
    }
   ],
   "source": [
    "y_train.hist();"
   ]
  },
  {
   "cell_type": "markdown",
   "id": "13eb2369-481c-4ad5-8731-b8731eda19b0",
   "metadata": {},
   "source": [
    "Applying a logarithm will allow the distribution to be centralized, allowing our model that will be trained to be more performant. We'll specifically use the `numpy.log1p()` function in case that there are values are 0. "
   ]
  },
  {
   "cell_type": "code",
   "execution_count": 29,
   "id": "f50b9359-df7a-4090-b53b-dfe077b66105",
   "metadata": {},
   "outputs": [],
   "source": [
    "y_train_log = numpy.log1p(y_train)\n",
    "y_test_log = numpy.log1p(y_test)"
   ]
  },
  {
   "cell_type": "code",
   "execution_count": 30,
   "id": "4fd7ab19-0949-4ccd-ab51-c30307f6eed7",
   "metadata": {},
   "outputs": [
    {
     "data": {
      "image/png": "[encoded data removed]",
      "text/plain": [
       "<Figure size 432x288 with 1 Axes>"
      ]
     },
     "metadata": {
      "needs_background": "light"
     },
     "output_type": "display_data"
    }
   ],
   "source": [
    "y_train_log.hist();"
   ]
  },
  {
   "cell_type": "markdown",
   "id": "e25ab683-b322-4785-969f-57b4f57ea76c",
   "metadata": {},
   "source": [
    "The distribution is now roughly normalized, and the model should be able to predict better. One thing we need to keep in mind, however, is that if we want predictions, we will have to inverse the logarithm on the outputs of the model."
   ]
  },
  {
   "cell_type": "markdown",
   "id": "66326deb-24b0-4f05-8a9c-6e8f66626611",
   "metadata": {},
   "source": [
    "We will train a **Lasso** linear regression model. Let's fit the model to the training data."
   ]
  },
  {
   "cell_type": "code",
   "execution_count": 31,
   "id": "744d3bb7-e5c8-44e9-8e16-1c24dacac204",
   "metadata": {},
   "outputs": [
    {
     "data": {
      "text/plain": [
       "0.7829089996341919"
      ]
     },
     "execution_count": 31,
     "metadata": {},
     "output_type": "execute_result"
    }
   ],
   "source": [
    "cross_val_score(LassoCV(), X_train, y_train_log).mean()"
   ]
  },
  {
   "cell_type": "code",
   "execution_count": 32,
   "id": "fde628ce-c868-42c9-83fa-a3b274a66424",
   "metadata": {
    "tags": []
   },
   "outputs": [
    {
     "data": {
      "text/html": [
       "<style>div.sk-top-container {color: black;background-color: white;}div.sk-toggleable {background-color: white;}label.sk-toggleable__label {cursor: pointer;display: block;width: 100%;margin-bottom: 0;padding: 0.2em 0.3em;box-sizing: border-box;text-align: center;}div.sk-toggleable__content {max-height: 0;max-width: 0;overflow: hidden;text-align: left;background-color: #f0f8ff;}div.sk-toggleable__content pre {margin: 0.2em;color: black;border-radius: 0.25em;background-color: #f0f8ff;}input.sk-toggleable__control:checked~div.sk-toggleable__content {max-height: 200px;max-width: 100%;overflow: auto;}div.sk-estimator input.sk-toggleable__control:checked~label.sk-toggleable__label {background-color: #d4ebff;}div.sk-label input.sk-toggleable__control:checked~label.sk-toggleable__label {background-color: #d4ebff;}input.sk-hidden--visually {border: 0;clip: rect(1px 1px 1px 1px);clip: rect(1px, 1px, 1px, 1px);height: 1px;margin: -1px;overflow: hidden;padding: 0;position: absolute;width: 1px;}div.sk-estimator {font-family: monospace;background-color: #f0f8ff;margin: 0.25em 0.25em;border: 1px dotted black;border-radius: 0.25em;box-sizing: border-box;}div.sk-estimator:hover {background-color: #d4ebff;}div.sk-parallel-item::after {content: \"\";width: 100%;border-bottom: 1px solid gray;flex-grow: 1;}div.sk-label:hover label.sk-toggleable__label {background-color: #d4ebff;}div.sk-serial::before {content: \"\";position: absolute;border-left: 1px solid gray;box-sizing: border-box;top: 2em;bottom: 0;left: 50%;}div.sk-serial {display: flex;flex-direction: column;align-items: center;background-color: white;}div.sk-item {z-index: 1;}div.sk-parallel {display: flex;align-items: stretch;justify-content: center;background-color: white;}div.sk-parallel-item {display: flex;flex-direction: column;position: relative;background-color: white;}div.sk-parallel-item:first-child::after {align-self: flex-end;width: 50%;}div.sk-parallel-item:last-child::after {align-self: flex-start;width: 50%;}div.sk-parallel-item:only-child::after {width: 0;}div.sk-dashed-wrapped {border: 1px dashed gray;margin: 0.2em;box-sizing: border-box;padding-bottom: 0.1em;background-color: white;position: relative;}div.sk-label label {font-family: monospace;font-weight: bold;background-color: white;display: inline-block;line-height: 1.2em;}div.sk-label-container {position: relative;z-index: 2;text-align: center;}div.sk-container {display: inline-block;position: relative;}</style><div class=\"sk-top-container\"><div class=\"sk-container\"><div class=\"sk-item\"><div class=\"sk-estimator sk-toggleable\"><input class=\"sk-toggleable__control sk-hidden--visually\" id=\"a9056aca-7c45-4882-b6ec-1f4bfb1e2894\" type=\"checkbox\" checked><label class=\"sk-toggleable__label\" for=\"a9056aca-7c45-4882-b6ec-1f4bfb1e2894\">LassoCV</label><div class=\"sk-toggleable__content\"><pre>LassoCV()</pre></div></div></div></div></div>"
      ],
      "text/plain": [
       "LassoCV()"
      ]
     },
     "execution_count": 32,
     "metadata": {},
     "output_type": "execute_result"
    }
   ],
   "source": [
    "lasso = LassoCV()\n",
    "lasso.fit(X_train, y_train_log)"
   ]
  },
  {
   "cell_type": "code",
   "execution_count": 33,
   "id": "7320916d-d493-455b-a6b9-151fa0ac4985",
   "metadata": {},
   "outputs": [
    {
     "data": {
      "text/plain": [
       "0.8115186497632131"
      ]
     },
     "execution_count": 33,
     "metadata": {},
     "output_type": "execute_result"
    }
   ],
   "source": [
    "lasso.score(X_train, y_train_log)"
   ]
  },
  {
   "cell_type": "code",
   "execution_count": 34,
   "id": "69fc43a7-aca3-4746-a8e7-62fa180e16da",
   "metadata": {},
   "outputs": [
    {
     "data": {
      "text/plain": [
       "0.8254860826395426"
      ]
     },
     "execution_count": 34,
     "metadata": {},
     "output_type": "execute_result"
    }
   ],
   "source": [
    "lasso.score(X_test, y_test_log)"
   ]
  },
  {
   "cell_type": "markdown",
   "id": "b2cf77e7-1d0f-406f-b2aa-8c1a4f6e9e33",
   "metadata": {},
   "source": [
    "**III - Model Evaluation**"
   ]
  },
  {
   "cell_type": "markdown",
   "id": "8d89a1a5-b3a8-496d-a943-be4e466e1c7c",
   "metadata": {
    "tags": []
   },
   "source": [
    "Before saving our trained model for further use, let's take a look at some performance metrics. We will evaluate the model on both the training and test sets; we want to see a stable performance between the two.  \n",
    "\n",
    "For repeatability, let's define a function which computes multiple metrics at once."
   ]
  },
  {
   "cell_type": "code",
   "execution_count": 35,
   "id": "0d2ba1e7-43ce-4f99-9306-31fa6a3aa309",
   "metadata": {},
   "outputs": [],
   "source": [
    "def compute_metrics(y, y_preds):\n",
    "    \"\"\"\n",
    "    A function to evaluate a regression model.\n",
    "    \n",
    "    param: y: true (ground truth) values\n",
    "    param: y_preds: predicted values (as predicted by model)\n",
    "    \n",
    "    return: multiple regression performance metrics\n",
    "    \"\"\"\n",
    "    \n",
    "    return {\n",
    "        'Mean Absolute Error' : round(mean_absolute_error(y, y_preds), 2),\n",
    "        'Root Mean Squared Error' : round(mean_squared_error(y, y_preds) ** 0.5, 2),\n",
    "        'R2 Score' : round(r2_score(y, y_preds), 3)\n",
    "    }"
   ]
  },
  {
   "cell_type": "markdown",
   "id": "b4951c4b-dd43-4d2e-986c-aa16ea36a086",
   "metadata": {},
   "source": [
    "Let's compute predictions on both training and test sets. Remember, we need to apply an inverse log to convert the outputs into the same units as our inputs."
   ]
  },
  {
   "cell_type": "code",
   "execution_count": 36,
   "id": "3d00e0c2-f32e-4063-834d-1f81ea0e0c17",
   "metadata": {},
   "outputs": [],
   "source": [
    "y_train_preds = numpy.expm1(lasso.predict(X_train))\n",
    "y_test_preds = numpy.expm1(lasso.predict(X_test))"
   ]
  },
  {
   "cell_type": "code",
   "execution_count": 37,
   "id": "d29e6690-5dd0-4596-b57b-013dd2afa321",
   "metadata": {
    "tags": []
   },
   "outputs": [],
   "source": [
    "performance_df = pandas.DataFrame(\n",
    "    data=[{}],\n",
    "    columns=['Mean Absolute Error', 'Root Mean Squared Error', 'R2 Score'],\n",
    "    index=['Training Set', 'Test Set']\n",
    ")\n",
    "performance_df.loc['Training Set', :] = compute_metrics(y_train, y_train_preds)\n",
    "performance_df.loc['Test Set', :] = compute_metrics(y_test, y_test_preds)"
   ]
  },
  {
   "cell_type": "markdown",
   "id": "7fb5a8c1-dad8-4f55-84a8-8e91b7276f79",
   "metadata": {},
   "source": [
    "Let's look at how our model performed:"
   ]
  },
  {
   "cell_type": "code",
   "execution_count": 38,
   "id": "b5aa2f26-cbcc-47a4-a900-53ed530690da",
   "metadata": {},
   "outputs": [
    {
     "data": {
      "text/html": [
       "<div>\n",
       "<style scoped>\n",
       "    .dataframe tbody tr th:only-of-type {\n",
       "        vertical-align: middle;\n",
       "    }\n",
       "\n",
       "    .dataframe tbody tr th {\n",
       "        vertical-align: top;\n",
       "    }\n",
       "\n",
       "    .dataframe thead th {\n",
       "        text-align: right;\n",
       "    }\n",
       "</style>\n",
       "<table border=\"1\" class=\"dataframe\">\n",
       "  <thead>\n",
       "    <tr style=\"text-align: right;\">\n",
       "      <th></th>\n",
       "      <th>Mean Absolute Error</th>\n",
       "      <th>Root Mean Squared Error</th>\n",
       "      <th>R2 Score</th>\n",
       "    </tr>\n",
       "  </thead>\n",
       "  <tbody>\n",
       "    <tr>\n",
       "      <th>Training Set</th>\n",
       "      <td>20919.67</td>\n",
       "      <td>40261.62</td>\n",
       "      <td>0.733</td>\n",
       "    </tr>\n",
       "    <tr>\n",
       "      <th>Test Set</th>\n",
       "      <td>21938.70</td>\n",
       "      <td>31288.19</td>\n",
       "      <td>0.865</td>\n",
       "    </tr>\n",
       "  </tbody>\n",
       "</table>\n",
       "</div>"
      ],
      "text/plain": [
       "              Mean Absolute Error  Root Mean Squared Error  R2 Score\n",
       "Training Set             20919.67                 40261.62     0.733\n",
       "Test Set                 21938.70                 31288.19     0.865"
      ]
     },
     "execution_count": 38,
     "metadata": {},
     "output_type": "execute_result"
    }
   ],
   "source": [
    "performance_df"
   ]
  },
  {
   "cell_type": "markdown",
   "id": "64d85466-2f88-4e8d-b709-57e411549005",
   "metadata": {},
   "source": [
    "There is a slight difference in performance between the training set and the test set on some of the metrics. This could have come from the way that the data was split, or other issues. Further model improvements are needed to achieve more accurate inferences. For now, we will contend with this model and use it to produce new predictions."
   ]
  },
  {
   "cell_type": "markdown",
   "id": "5d5218d7-072c-4224-ba4c-97c249c409fa",
   "metadata": {},
   "source": [
    "**IV - Saving and Loading the Trained Model**"
   ]
  },
  {
   "cell_type": "markdown",
   "id": "d005abc3-69d1-4876-bdd8-3cf9ec00e52b",
   "metadata": {},
   "source": [
    "Now that the model is **trained** and **evaluated**, we save it in a binary format. It will later be loaded and used to make new predictions."
   ]
  },
  {
   "cell_type": "code",
   "execution_count": 39,
   "id": "c7327c52-1986-400b-80ab-815a7ad83a93",
   "metadata": {},
   "outputs": [],
   "source": [
    "pickle.dump(lasso, open('lasso.pickle', 'wb'))"
   ]
  },
  {
   "cell_type": "markdown",
   "id": "c85915ca-4140-4be1-a775-861d7775a7d8",
   "metadata": {},
   "source": [
    "The model is reloaded on-demands as follows:"
   ]
  },
  {
   "cell_type": "code",
   "execution_count": 40,
   "id": "80259dcc-5e75-4c6a-9744-640fdf443127",
   "metadata": {},
   "outputs": [],
   "source": [
    "lasso_loaded = pickle.load(open('lasso.pickle', 'rb'))"
   ]
  },
  {
   "cell_type": "markdown",
   "id": "398ddc31-8426-4c1b-9231-3f1bd9c75c91",
   "metadata": {},
   "source": [
    "Predictions can be produced on-demand by calling the `predict()` function:"
   ]
  },
  {
   "cell_type": "code",
   "execution_count": 41,
   "id": "231f274f-8508-42b8-ae2d-3a798cfe6b70",
   "metadata": {},
   "outputs": [],
   "source": [
    "new_preds = lasso_loaded.predict(X_test)"
   ]
  },
  {
   "cell_type": "markdown",
   "id": "a14e12e4-4232-48ea-b69b-6718b3b9b83f",
   "metadata": {},
   "source": [
    "Before heading into the next section, let's append our predictions to our `_scored` DataFrames and save them. Once again, these data sets will be used mainly for monitoring purposes. Specifically for Regression models, MOC expected the ground truth (actual) column to be named `ground_truth` and the predictions to be named `predictions`. We'll make those changes and save our data sets."
   ]
  },
  {
   "cell_type": "code",
   "execution_count": 42,
   "id": "a9827aae-e0a4-47dc-a70b-1c4fddd4af2f",
   "metadata": {},
   "outputs": [],
   "source": [
    "train_encoded_columns.append('SalePrice')\n",
    "\n",
    "df_baseline_scored = df_baseline_scored[train_encoded_columns]\n",
    "df_baseline_scored['prediction'] = y_train_preds\n",
    "df_baseline_scored = df_baseline_scored.rename(columns={'SalePrice':'ground_truth'})\n",
    "\n",
    "df_sample_scored = df_sample_scored[train_encoded_columns]\n",
    "df_sample_scored['prediction'] = y_test_preds\n",
    "df_sample_scored = df_sample_scored.rename(columns={'SalePrice':'ground_truth'})\n",
    "                                           \n",
    "df_baseline_scored.to_json('df_baseline_scored.json', orient='records', lines=True)\n",
    "df_sample_scored.to_json('df_sample_scored.json', orient='records', lines=True)"
   ]
  },
  {
   "cell_type": "markdown",
   "id": "710a39cb-4ab9-4faf-9c95-e3c3b9c11eeb",
   "metadata": {},
   "source": [
    "**V - Conforming Model Code to MOC Requirements**"
   ]
  },
  {
   "cell_type": "markdown",
   "id": "599c419c-bfed-431a-942f-a83f314fd073",
   "metadata": {},
   "source": [
    "Conformance is best demonstrated through example. Let's look at the code below:"
   ]
  },
  {
   "cell_type": "code",
   "execution_count": 43,
   "id": "326853da-70d4-41d7-8759-75bba35f2b8b",
   "metadata": {},
   "outputs": [],
   "source": [
    "import pandas\n",
    "import pickle\n",
    "import numpy\n",
    "from sklearn.metrics import r2_score, mean_squared_error, mean_absolute_error\n",
    "\n",
    "# modelop.init\n",
    "def begin():\n",
    "    global lasso_model\n",
    "    global standard_scaler\n",
    "    global train_encoded_columns\n",
    "\n",
    "    # load pickled Lasso linear regression model\n",
    "    lasso_model = pickle.load(open(\"lasso.pickle\", \"rb\"))\n",
    "    # load pickled standard scaler\n",
    "    standard_scaler = pickle.load(open(\"standard_scaler.pickle\", \"rb\"))\n",
    "    # load train_encoded_columns\n",
    "    train_encoded_columns = pickle.load(open(\"train_encoded_columns.pickle\", \"rb\"))\n",
    "\n",
    "\n",
    "# modelop.score\n",
    "def action(data):\n",
    "    # converting data into dataframe with some checks\n",
    "    if isinstance(data, pandas.DataFrame):\n",
    "        df = data\n",
    "    else:\n",
    "        if isinstance(data, list):\n",
    "            df = pandas.DataFrame(data)\n",
    "        else:\n",
    "            df = pandas.DataFrame([data])\n",
    "\n",
    "    # dictionary to convert values in certain columns\n",
    "    generic = {\"Ex\": 4, \"Gd\": 3, \"TA\": 2, \"Fa\": 1, \"None\": 0}\n",
    "\n",
    "    # the only features that the model trained on\n",
    "    predictive_features = [\n",
    "        \"FullBath\",\n",
    "        \"1stFlrSF\",\n",
    "        \"TotalBsmtSF\",\n",
    "        \"BsmtQual\",\n",
    "        \"GarageArea\",\n",
    "        \"GarageCars\",\n",
    "        \"KitchenQual\",\n",
    "        \"ExterQual\",\n",
    "        \"GrLivArea\",\n",
    "        \"OverallQual\",\n",
    "    ]\n",
    "\n",
    "    # set aside ground truth to later re-append to dataframe\n",
    "    ground_truth = df[\"SalePrice\"]\n",
    "\n",
    "    # limiting features to just the ones the model needs\n",
    "    df = df[predictive_features]\n",
    "\n",
    "    # imputing missing values\n",
    "    for col in predictive_features:\n",
    "        df.loc[:, col] = df.loc[:, col].fillna(\"None\")\n",
    "\n",
    "    # converting categorical values from certain features into numerical\n",
    "    for col in [\"BsmtQual\", \"KitchenQual\", \"ExterQual\"]:\n",
    "        df.loc[:, col] = df[col].map(generic)\n",
    "\n",
    "    # scale inputs\n",
    "    df_ss = standard_scaler.transform(df)\n",
    "\n",
    "    # generate predictions and rename columns\n",
    "    df.loc[:, \"prediction\"] = numpy.round(numpy.expm1(lasso_model.predict(df_ss)), 2)\n",
    "    df.loc[:, \"ground_truth\"] = ground_truth\n",
    "\n",
    "    # MOC expects the action function to be a \"yield\" function\n",
    "    return df.to_dict(orient=\"records\")\n",
    "\n",
    "\n",
    "# modelop.metrics\n",
    "def metrics(data):\n",
    "    # converting data into dataframe with some checks\n",
    "    if isinstance(data, pandas.DataFrame):\n",
    "        df = data\n",
    "    else:\n",
    "        if isinstance(data, list):\n",
    "            df = pandas.DataFrame(data)\n",
    "        else:\n",
    "            df = pandas.DataFrame([data])\n",
    "\n",
    "    y = df[\"ground_truth\"]\n",
    "    y_preds = df[\"prediction\"]\n",
    "\n",
    "    return {\n",
    "        \"MAE\": mean_absolute_error(y, y_preds),\n",
    "        \"RMSE\": mean_squared_error(y, y_preds) ** 0.5,\n",
    "        \"R2\": r2_score(y, y_preds),\n",
    "    }\n"
   ]
  },
  {
   "cell_type": "markdown",
   "id": "09dc4fa9-f569-46a1-bdb9-50f78167869e",
   "metadata": {},
   "source": [
    "There are four main sections that are standard to almost any model in MOC:\n",
    "1. Library imports\n",
    "2. `init` function\n",
    "3. `score` function\n",
    "4. `metrics` function\n",
    "\n",
    "**Library** imports are always at the top. We don't need to include all libraries that we used for training and model evaluation. We just need the libraries for processing and scoring.\n",
    "\n",
    "The **`init`** function runs once per deployment, and is used to load and persist into memory any variable that needs to be accessed at scoring time. For example, the init function is where we load the saved model binary. We make the variable global so it can be accessed from the scoring function. In our example, we also included the `train_encoded_columns` as this information will not change per prediction and only needs to be instantiated once.\n",
    "\n",
    "The **`score`** function is the function that runs anytime we make a scoring (prediction) request. This is where we put our prediction code. We have to remember to include any steps that were not captured by the pipeline, such as feature engineering or re-encoding.\n",
    "\n",
    "The **`metrics`** functions is where model evaluation is carried out. In our example, this is the place where we replicate the calculations of Group and/or Bias metrics."
   ]
  },
  {
   "cell_type": "markdown",
   "id": "3cfc87bd-0b91-4105-8e3a-bde4722bbb6e",
   "metadata": {},
   "source": [
    "Let us test our source code to see if we missed anything. We will load input data and scored input data to test both the scoring and metrics functions:"
   ]
  },
  {
   "cell_type": "code",
   "execution_count": 44,
   "id": "1c9892df-0b79-4257-b80a-3a38d04de6c5",
   "metadata": {},
   "outputs": [],
   "source": [
    "test_sample = pandas.read_json('df_baseline.json', orient='records', lines=True)\n",
    "metrics_baseline_input = pandas.read_json('df_baseline_scored.json', orient='records', lines=True)\n",
    "metrics_sample_input = pandas.read_json('df_sample_scored.json', orient='records', lines=True)"
   ]
  },
  {
   "cell_type": "markdown",
   "id": "e4ab826e-a7f5-436e-b5c8-d8c5e99b3020",
   "metadata": {},
   "source": [
    "Let's check that the **`init`** function can load the trained model binary:"
   ]
  },
  {
   "cell_type": "code",
   "execution_count": 45,
   "id": "b249f703-a42d-4739-96d9-7b5e6b88bdf8",
   "metadata": {},
   "outputs": [],
   "source": [
    "begin()"
   ]
  },
  {
   "cell_type": "markdown",
   "id": "1f550df5-91cd-436b-b590-457a9150141c",
   "metadata": {},
   "source": [
    "No errors from the **`init`** function. Let's make a call to the **`score`** function on input data:"
   ]
  },
  {
   "cell_type": "code",
   "execution_count": 46,
   "id": "6c01c2bf-f553-42b9-aefb-94975daec974",
   "metadata": {},
   "outputs": [],
   "source": [
    "scores = pandas.DataFrame(action(test_sample))"
   ]
  },
  {
   "cell_type": "code",
   "execution_count": 47,
   "id": "8c4a3bca-5fe6-42b3-af90-af01474210b5",
   "metadata": {},
   "outputs": [
    {
     "data": {
      "text/html": [
       "<div>\n",
       "<style scoped>\n",
       "    .dataframe tbody tr th:only-of-type {\n",
       "        vertical-align: middle;\n",
       "    }\n",
       "\n",
       "    .dataframe tbody tr th {\n",
       "        vertical-align: top;\n",
       "    }\n",
       "\n",
       "    .dataframe thead th {\n",
       "        text-align: right;\n",
       "    }\n",
       "</style>\n",
       "<table border=\"1\" class=\"dataframe\">\n",
       "  <thead>\n",
       "    <tr style=\"text-align: right;\">\n",
       "      <th></th>\n",
       "      <th>FullBath</th>\n",
       "      <th>1stFlrSF</th>\n",
       "      <th>TotalBsmtSF</th>\n",
       "      <th>BsmtQual</th>\n",
       "      <th>GarageArea</th>\n",
       "      <th>GarageCars</th>\n",
       "      <th>KitchenQual</th>\n",
       "      <th>ExterQual</th>\n",
       "      <th>GrLivArea</th>\n",
       "      <th>OverallQual</th>\n",
       "      <th>prediction</th>\n",
       "      <th>ground_truth</th>\n",
       "    </tr>\n",
       "  </thead>\n",
       "  <tbody>\n",
       "    <tr>\n",
       "      <th>0</th>\n",
       "      <td>2</td>\n",
       "      <td>1082</td>\n",
       "      <td>1082</td>\n",
       "      <td>3</td>\n",
       "      <td>1043</td>\n",
       "      <td>3</td>\n",
       "      <td>3</td>\n",
       "      <td>3</td>\n",
       "      <td>1953</td>\n",
       "      <td>8</td>\n",
       "      <td>264568.93</td>\n",
       "      <td>252000</td>\n",
       "    </tr>\n",
       "    <tr>\n",
       "      <th>1</th>\n",
       "      <td>2</td>\n",
       "      <td>808</td>\n",
       "      <td>660</td>\n",
       "      <td>1</td>\n",
       "      <td>180</td>\n",
       "      <td>1</td>\n",
       "      <td>2</td>\n",
       "      <td>2</td>\n",
       "      <td>1656</td>\n",
       "      <td>5</td>\n",
       "      <td>120401.72</td>\n",
       "      <td>135000</td>\n",
       "    </tr>\n",
       "    <tr>\n",
       "      <th>2</th>\n",
       "      <td>2</td>\n",
       "      <td>697</td>\n",
       "      <td>672</td>\n",
       "      <td>2</td>\n",
       "      <td>300</td>\n",
       "      <td>1</td>\n",
       "      <td>2</td>\n",
       "      <td>2</td>\n",
       "      <td>1369</td>\n",
       "      <td>6</td>\n",
       "      <td>133070.03</td>\n",
       "      <td>103600</td>\n",
       "    </tr>\n",
       "    <tr>\n",
       "      <th>3</th>\n",
       "      <td>2</td>\n",
       "      <td>909</td>\n",
       "      <td>880</td>\n",
       "      <td>3</td>\n",
       "      <td>512</td>\n",
       "      <td>2</td>\n",
       "      <td>3</td>\n",
       "      <td>3</td>\n",
       "      <td>1716</td>\n",
       "      <td>7</td>\n",
       "      <td>203571.89</td>\n",
       "      <td>191000</td>\n",
       "    </tr>\n",
       "    <tr>\n",
       "      <th>4</th>\n",
       "      <td>1</td>\n",
       "      <td>964</td>\n",
       "      <td>925</td>\n",
       "      <td>2</td>\n",
       "      <td>308</td>\n",
       "      <td>1</td>\n",
       "      <td>2</td>\n",
       "      <td>1</td>\n",
       "      <td>1889</td>\n",
       "      <td>7</td>\n",
       "      <td>156097.76</td>\n",
       "      <td>122000</td>\n",
       "    </tr>\n",
       "    <tr>\n",
       "      <th>5</th>\n",
       "      <td>1</td>\n",
       "      <td>1344</td>\n",
       "      <td>1024</td>\n",
       "      <td>2</td>\n",
       "      <td>484</td>\n",
       "      <td>1</td>\n",
       "      <td>2</td>\n",
       "      <td>2</td>\n",
       "      <td>1344</td>\n",
       "      <td>5</td>\n",
       "      <td>127709.40</td>\n",
       "      <td>144000</td>\n",
       "    </tr>\n",
       "    <tr>\n",
       "      <th>6</th>\n",
       "      <td>1</td>\n",
       "      <td>974</td>\n",
       "      <td>974</td>\n",
       "      <td>3</td>\n",
       "      <td>0</td>\n",
       "      <td>0</td>\n",
       "      <td>2</td>\n",
       "      <td>2</td>\n",
       "      <td>974</td>\n",
       "      <td>5</td>\n",
       "      <td>110605.29</td>\n",
       "      <td>93500</td>\n",
       "    </tr>\n",
       "    <tr>\n",
       "      <th>7</th>\n",
       "      <td>2</td>\n",
       "      <td>1468</td>\n",
       "      <td>1468</td>\n",
       "      <td>3</td>\n",
       "      <td>898</td>\n",
       "      <td>3</td>\n",
       "      <td>3</td>\n",
       "      <td>3</td>\n",
       "      <td>1468</td>\n",
       "      <td>8</td>\n",
       "      <td>250903.62</td>\n",
       "      <td>244600</td>\n",
       "    </tr>\n",
       "    <tr>\n",
       "      <th>8</th>\n",
       "      <td>3</td>\n",
       "      <td>1307</td>\n",
       "      <td>907</td>\n",
       "      <td>2</td>\n",
       "      <td>360</td>\n",
       "      <td>2</td>\n",
       "      <td>2</td>\n",
       "      <td>2</td>\n",
       "      <td>2358</td>\n",
       "      <td>6</td>\n",
       "      <td>187606.19</td>\n",
       "      <td>240000</td>\n",
       "    </tr>\n",
       "    <tr>\n",
       "      <th>9</th>\n",
       "      <td>2</td>\n",
       "      <td>1240</td>\n",
       "      <td>1240</td>\n",
       "      <td>3</td>\n",
       "      <td>826</td>\n",
       "      <td>3</td>\n",
       "      <td>3</td>\n",
       "      <td>3</td>\n",
       "      <td>1240</td>\n",
       "      <td>7</td>\n",
       "      <td>215599.45</td>\n",
       "      <td>194000</td>\n",
       "    </tr>\n",
       "  </tbody>\n",
       "</table>\n",
       "</div>"
      ],
      "text/plain": [
       "   FullBath  1stFlrSF  TotalBsmtSF  BsmtQual  GarageArea  GarageCars  \\\n",
       "0         2      1082         1082         3        1043           3   \n",
       "1         2       808          660         1         180           1   \n",
       "2         2       697          672         2         300           1   \n",
       "3         2       909          880         3         512           2   \n",
       "4         1       964          925         2         308           1   \n",
       "5         1      1344         1024         2         484           1   \n",
       "6         1       974          974         3           0           0   \n",
       "7         2      1468         1468         3         898           3   \n",
       "8         3      1307          907         2         360           2   \n",
       "9         2      1240         1240         3         826           3   \n",
       "\n",
       "   KitchenQual  ExterQual  GrLivArea  OverallQual  prediction  ground_truth  \n",
       "0            3          3       1953            8   264568.93        252000  \n",
       "1            2          2       1656            5   120401.72        135000  \n",
       "2            2          2       1369            6   133070.03        103600  \n",
       "3            3          3       1716            7   203571.89        191000  \n",
       "4            2          1       1889            7   156097.76        122000  \n",
       "5            2          2       1344            5   127709.40        144000  \n",
       "6            2          2        974            5   110605.29         93500  \n",
       "7            3          3       1468            8   250903.62        244600  \n",
       "8            2          2       2358            6   187606.19        240000  \n",
       "9            3          3       1240            7   215599.45        194000  "
      ]
     },
     "execution_count": 47,
     "metadata": {},
     "output_type": "execute_result"
    }
   ],
   "source": [
    "scores.head(10)"
   ]
  },
  {
   "cell_type": "markdown",
   "id": "cef6f273-bc91-464f-8c88-20e9114d12ec",
   "metadata": {},
   "source": [
    "We have a set of scores! Finally, let's call the **`metrics`** function on scored data:"
   ]
  },
  {
   "cell_type": "code",
   "execution_count": 48,
   "id": "2aeedcd8-1e02-4c47-8379-080d7a7849bd",
   "metadata": {},
   "outputs": [],
   "source": [
    "metrics_compare = pandas.DataFrame([metrics(metrics_baseline_input), \n",
    "                                    metrics(metrics_sample_input)],\n",
    "                                   index=['baseline', 'sample'])"
   ]
  },
  {
   "cell_type": "code",
   "execution_count": 49,
   "id": "66c7f5b2-ff83-4d15-89b3-26da2d920124",
   "metadata": {},
   "outputs": [
    {
     "data": {
      "text/html": [
       "<div>\n",
       "<style scoped>\n",
       "    .dataframe tbody tr th:only-of-type {\n",
       "        vertical-align: middle;\n",
       "    }\n",
       "\n",
       "    .dataframe tbody tr th {\n",
       "        vertical-align: top;\n",
       "    }\n",
       "\n",
       "    .dataframe thead th {\n",
       "        text-align: right;\n",
       "    }\n",
       "</style>\n",
       "<table border=\"1\" class=\"dataframe\">\n",
       "  <thead>\n",
       "    <tr style=\"text-align: right;\">\n",
       "      <th></th>\n",
       "      <th>MAE</th>\n",
       "      <th>RMSE</th>\n",
       "      <th>R2</th>\n",
       "    </tr>\n",
       "  </thead>\n",
       "  <tbody>\n",
       "    <tr>\n",
       "      <th>baseline</th>\n",
       "      <td>20919.665311</td>\n",
       "      <td>40261.619096</td>\n",
       "      <td>0.732949</td>\n",
       "    </tr>\n",
       "    <tr>\n",
       "      <th>sample</th>\n",
       "      <td>21938.698298</td>\n",
       "      <td>31288.185316</td>\n",
       "      <td>0.864641</td>\n",
       "    </tr>\n",
       "  </tbody>\n",
       "</table>\n",
       "</div>"
      ],
      "text/plain": [
       "                   MAE          RMSE        R2\n",
       "baseline  20919.665311  40261.619096  0.732949\n",
       "sample    21938.698298  31288.185316  0.864641"
      ]
     },
     "execution_count": 49,
     "metadata": {},
     "output_type": "execute_result"
    }
   ],
   "source": [
    "metrics_compare"
   ]
  },
  {
   "cell_type": "code",
   "execution_count": null,
   "id": "6a2d0c2a-15bb-4d19-a4be-9713f4051358",
   "metadata": {},
   "outputs": [],
   "source": []
  }
 ],
 "metadata": {
  "kernelspec": {
   "display_name": "Python 3",
   "language": "python",
   "name": "python3"
  },
  "language_info": {
   "codemirror_mode": {
    "name": "ipython",
    "version": 3
   },
   "file_extension": ".py",
   "mimetype": "text/x-python",
   "name": "python",
   "nbconvert_exporter": "python",
   "pygments_lexer": "ipython3",
   "version": "3.8.5"
  }
 },
 "nbformat": 4,
 "nbformat_minor": 5
}
