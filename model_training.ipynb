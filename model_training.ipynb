{
 "cells": [
  {
   "cell_type": "markdown",
   "metadata": {},
   "source": [
    "## Training, Evaluating, and Conforming a Model for Deployment\n",
    "In this notebook, we demonstrate the process of\n",
    "\n",
    "1. simple cleaning, feature engineering, and feature selection of a dataset,\n",
    "2. training a model,\n",
    "3. evaluating model performance,\n",
    "4. saving (pickling) the model (and other assets) for later use,\n",
    "5. and conforming the code for deployment\n",
    "\n",
    "More specifically, we will train a linear regression predictor on the Ames Housing Data dataset."
   ]
  },
  {
   "cell_type": "markdown",
   "metadata": {},
   "source": [
    "Let's load in the necessary libraries. We will be using `sklearn` to train the model."
   ]
  },
  {
   "cell_type": "code",
   "execution_count": 314,
   "metadata": {},
   "outputs": [],
   "source": [
    "import pickle\n",
    "import pandas\n",
    "import numpy\n",
    "import matplotlib.pyplot as plt\n",
    "\n",
    "from sklearn import set_config\n",
    "from sklearn.linear_model import LassoCV\n",
    "from sklearn.model_selection import train_test_split, cross_val_score\n",
    "from sklearn.preprocessing import StandardScaler\n",
    "from sklearn.metrics import r2_score, mean_squared_error, mean_absolute_error\n",
    "\n",
    "pandas.options.mode.chained_assignment = None"
   ]
  },
  {
   "cell_type": "markdown",
   "metadata": {},
   "source": [
    "**I - Data Cleaning, Feature Engineering, and Feature Selection**"
   ]
  },
  {
   "cell_type": "markdown",
   "metadata": {},
   "source": [
    "The **Ames Housing Data** dataset can be found [at this link](https://www.kaggle.com/c/house-prices-advanced-regression-techniques/data). Download the train dataset (we will be using it exclusively as it has SalePrice, the ground truth feature to use with for monitoring) and load it into a Pandas DataFrame."
   ]
  },
  {
   "cell_type": "code",
   "execution_count": 315,
   "metadata": {},
   "outputs": [],
   "source": [
    "df = pandas.read_csv('./data/house_price_data.csv')"
   ]
  },
  {
   "cell_type": "markdown",
   "metadata": {},
   "source": [
    "Let's look at a sample of the data:"
   ]
  },
  {
   "cell_type": "code",
   "execution_count": 316,
   "metadata": {},
   "outputs": [
    {
     "data": {
      "text/html": [
       "<div>\n",
       "<style scoped>\n",
       "    .dataframe tbody tr th:only-of-type {\n",
       "        vertical-align: middle;\n",
       "    }\n",
       "\n",
       "    .dataframe tbody tr th {\n",
       "        vertical-align: top;\n",
       "    }\n",
       "\n",
       "    .dataframe thead th {\n",
       "        text-align: right;\n",
       "    }\n",
       "</style>\n",
       "<table border=\"1\" class=\"dataframe\">\n",
       "  <thead>\n",
       "    <tr style=\"text-align: right;\">\n",
       "      <th></th>\n",
       "      <th>Id</th>\n",
       "      <th>MSSubClass</th>\n",
       "      <th>MSZoning</th>\n",
       "      <th>LotFrontage</th>\n",
       "      <th>LotArea</th>\n",
       "      <th>Street</th>\n",
       "      <th>Alley</th>\n",
       "      <th>LotShape</th>\n",
       "      <th>LandContour</th>\n",
       "      <th>Utilities</th>\n",
       "      <th>...</th>\n",
       "      <th>PoolArea</th>\n",
       "      <th>PoolQC</th>\n",
       "      <th>Fence</th>\n",
       "      <th>MiscFeature</th>\n",
       "      <th>MiscVal</th>\n",
       "      <th>MoSold</th>\n",
       "      <th>YrSold</th>\n",
       "      <th>SaleType</th>\n",
       "      <th>SaleCondition</th>\n",
       "      <th>SalePrice</th>\n",
       "    </tr>\n",
       "  </thead>\n",
       "  <tbody>\n",
       "    <tr>\n",
       "      <th>0</th>\n",
       "      <td>1</td>\n",
       "      <td>60</td>\n",
       "      <td>RL</td>\n",
       "      <td>65.0</td>\n",
       "      <td>8450</td>\n",
       "      <td>Pave</td>\n",
       "      <td>NaN</td>\n",
       "      <td>Reg</td>\n",
       "      <td>Lvl</td>\n",
       "      <td>AllPub</td>\n",
       "      <td>...</td>\n",
       "      <td>0</td>\n",
       "      <td>NaN</td>\n",
       "      <td>NaN</td>\n",
       "      <td>NaN</td>\n",
       "      <td>0</td>\n",
       "      <td>2</td>\n",
       "      <td>2008</td>\n",
       "      <td>WD</td>\n",
       "      <td>Normal</td>\n",
       "      <td>208500</td>\n",
       "    </tr>\n",
       "    <tr>\n",
       "      <th>1</th>\n",
       "      <td>2</td>\n",
       "      <td>20</td>\n",
       "      <td>RL</td>\n",
       "      <td>80.0</td>\n",
       "      <td>9600</td>\n",
       "      <td>Pave</td>\n",
       "      <td>NaN</td>\n",
       "      <td>Reg</td>\n",
       "      <td>Lvl</td>\n",
       "      <td>AllPub</td>\n",
       "      <td>...</td>\n",
       "      <td>0</td>\n",
       "      <td>NaN</td>\n",
       "      <td>NaN</td>\n",
       "      <td>NaN</td>\n",
       "      <td>0</td>\n",
       "      <td>5</td>\n",
       "      <td>2007</td>\n",
       "      <td>WD</td>\n",
       "      <td>Normal</td>\n",
       "      <td>181500</td>\n",
       "    </tr>\n",
       "    <tr>\n",
       "      <th>2</th>\n",
       "      <td>3</td>\n",
       "      <td>60</td>\n",
       "      <td>RL</td>\n",
       "      <td>68.0</td>\n",
       "      <td>11250</td>\n",
       "      <td>Pave</td>\n",
       "      <td>NaN</td>\n",
       "      <td>IR1</td>\n",
       "      <td>Lvl</td>\n",
       "      <td>AllPub</td>\n",
       "      <td>...</td>\n",
       "      <td>0</td>\n",
       "      <td>NaN</td>\n",
       "      <td>NaN</td>\n",
       "      <td>NaN</td>\n",
       "      <td>0</td>\n",
       "      <td>9</td>\n",
       "      <td>2008</td>\n",
       "      <td>WD</td>\n",
       "      <td>Normal</td>\n",
       "      <td>223500</td>\n",
       "    </tr>\n",
       "    <tr>\n",
       "      <th>3</th>\n",
       "      <td>4</td>\n",
       "      <td>70</td>\n",
       "      <td>RL</td>\n",
       "      <td>60.0</td>\n",
       "      <td>9550</td>\n",
       "      <td>Pave</td>\n",
       "      <td>NaN</td>\n",
       "      <td>IR1</td>\n",
       "      <td>Lvl</td>\n",
       "      <td>AllPub</td>\n",
       "      <td>...</td>\n",
       "      <td>0</td>\n",
       "      <td>NaN</td>\n",
       "      <td>NaN</td>\n",
       "      <td>NaN</td>\n",
       "      <td>0</td>\n",
       "      <td>2</td>\n",
       "      <td>2006</td>\n",
       "      <td>WD</td>\n",
       "      <td>Abnorml</td>\n",
       "      <td>140000</td>\n",
       "    </tr>\n",
       "    <tr>\n",
       "      <th>4</th>\n",
       "      <td>5</td>\n",
       "      <td>60</td>\n",
       "      <td>RL</td>\n",
       "      <td>84.0</td>\n",
       "      <td>14260</td>\n",
       "      <td>Pave</td>\n",
       "      <td>NaN</td>\n",
       "      <td>IR1</td>\n",
       "      <td>Lvl</td>\n",
       "      <td>AllPub</td>\n",
       "      <td>...</td>\n",
       "      <td>0</td>\n",
       "      <td>NaN</td>\n",
       "      <td>NaN</td>\n",
       "      <td>NaN</td>\n",
       "      <td>0</td>\n",
       "      <td>12</td>\n",
       "      <td>2008</td>\n",
       "      <td>WD</td>\n",
       "      <td>Normal</td>\n",
       "      <td>250000</td>\n",
       "    </tr>\n",
       "  </tbody>\n",
       "</table>\n",
       "<p>5 rows × 81 columns</p>\n",
       "</div>"
      ],
      "text/plain": [
       "   Id  MSSubClass MSZoning  LotFrontage  LotArea Street Alley LotShape  \\\n",
       "0   1          60       RL         65.0     8450   Pave   NaN      Reg   \n",
       "1   2          20       RL         80.0     9600   Pave   NaN      Reg   \n",
       "2   3          60       RL         68.0    11250   Pave   NaN      IR1   \n",
       "3   4          70       RL         60.0     9550   Pave   NaN      IR1   \n",
       "4   5          60       RL         84.0    14260   Pave   NaN      IR1   \n",
       "\n",
       "  LandContour Utilities  ... PoolArea PoolQC Fence MiscFeature MiscVal MoSold  \\\n",
       "0         Lvl    AllPub  ...        0    NaN   NaN         NaN       0      2   \n",
       "1         Lvl    AllPub  ...        0    NaN   NaN         NaN       0      5   \n",
       "2         Lvl    AllPub  ...        0    NaN   NaN         NaN       0      9   \n",
       "3         Lvl    AllPub  ...        0    NaN   NaN         NaN       0      2   \n",
       "4         Lvl    AllPub  ...        0    NaN   NaN         NaN       0     12   \n",
       "\n",
       "  YrSold  SaleType  SaleCondition  SalePrice  \n",
       "0   2008        WD         Normal     208500  \n",
       "1   2007        WD         Normal     181500  \n",
       "2   2008        WD         Normal     223500  \n",
       "3   2006        WD        Abnorml     140000  \n",
       "4   2008        WD         Normal     250000  \n",
       "\n",
       "[5 rows x 81 columns]"
      ]
     },
     "execution_count": 316,
     "metadata": {},
     "output_type": "execute_result"
    }
   ],
   "source": [
    "df.head()"
   ]
  },
  {
   "cell_type": "markdown",
   "metadata": {},
   "source": [
    "Before proceeding, let's split the original dataset into two sets: a **baseline** set which will be used as a reference set, and a **sample** set which will mimic input data to the model once the model is in use."
   ]
  },
  {
   "cell_type": "code",
   "execution_count": 317,
   "metadata": {},
   "outputs": [],
   "source": [
    "df_baseline, df_sample = train_test_split(df, train_size=0.8, random_state=42)\n",
    "\n",
    "df_baseline_scored = df_baseline.copy(deep=True) # Will hold model output\n",
    "df_sample_scored = df_sample.copy(deep=True)\n",
    "\n",
    "df_baseline.to_json('./data/df_baseline.json', orient='records', lines=True)\n",
    "df_sample.to_json('./data/df_sample.json', orient='records', lines=True)"
   ]
  },
  {
   "cell_type": "markdown",
   "metadata": {},
   "source": [
    "Let's **clean up** the data. There are quite a few null values in the dataset and we'll fill them in with appropriate values. Note that these steps will also be necessary once we conform the model for deployment."
   ]
  },
  {
   "cell_type": "code",
   "execution_count": 318,
   "metadata": {},
   "outputs": [
    {
     "name": "stdout",
     "output_type": "stream",
     "text": [
      "Numerical features that contain 1 or more missing values:\n",
      "-  LotFrontage : \t 259\n",
      "-  MasVnrArea : \t 8\n",
      "-  GarageYrBlt : \t 81\n"
     ]
    }
   ],
   "source": [
    "print('Numerical features that contain 1 or more missing values:')\n",
    "for col, dtype in df.dtypes.items():\n",
    "    num_missigns = df[col].isna().sum()\n",
    "    if dtype not in ['object', 'category'] and num_missigns > 0:\n",
    "        print('- ', col, ': \\t', num_missigns)"
   ]
  },
  {
   "cell_type": "code",
   "execution_count": 319,
   "id": "68f8439a",
   "metadata": {},
   "outputs": [
    {
     "name": "stdout",
     "output_type": "stream",
     "text": [
      "Categorical features that contain 1 or more missing values:\n",
      "-  Alley : \t\t 1369\n",
      "-  MasVnrType : \t\t 8\n",
      "-  BsmtQual : \t\t 37\n",
      "-  BsmtCond : \t\t 37\n",
      "-  BsmtExposure : \t\t 38\n",
      "-  BsmtFinType1 : \t\t 37\n",
      "-  BsmtFinType2 : \t\t 38\n",
      "-  Electrical : \t\t 1\n",
      "-  FireplaceQu : \t\t 690\n",
      "-  GarageType : \t\t 81\n",
      "-  GarageFinish : \t\t 81\n",
      "-  GarageQual : \t\t 81\n",
      "-  GarageCond : \t\t 81\n",
      "-  PoolQC : \t\t 1453\n",
      "-  Fence : \t\t 1179\n",
      "-  MiscFeature : \t\t 1406\n"
     ]
    }
   ],
   "source": [
    "print('Categorical features that contain 1 or more missing values:')\n",
    "for col, dtype in df.dtypes.items():\n",
    "    num_missigns = df[col].isna().sum()\n",
    "    if dtype in ['object', 'category'] and num_missigns > 0:\n",
    "        print('- ', col, ': \\t\\t', num_missigns)"
   ]
  },
  {
   "cell_type": "code",
   "execution_count": 320,
   "metadata": {
    "tags": []
   },
   "outputs": [],
   "source": [
    "# Imputing missing GarageYrBlt values with corresponding YearBuilt values\n",
    "df_baseline['GarageYrBlt'] = df_baseline['GarageYrBlt'].fillna(df_baseline['YearBuilt'])\n",
    "df_sample['GarageYrBlt'] = df_sample['GarageYrBlt'].fillna(df_sample['YearBuilt'])"
   ]
  },
  {
   "cell_type": "code",
   "execution_count": 321,
   "metadata": {
    "tags": []
   },
   "outputs": [],
   "source": [
    "# Imputing MasVnrArea missing values with 0 \n",
    "df_baseline['MasVnrArea'] = df_baseline['MasVnrArea'].fillna(0)\n",
    "df_sample['MasVnrArea'] = df_sample['MasVnrArea'].fillna(0)"
   ]
  },
  {
   "cell_type": "code",
   "execution_count": 322,
   "metadata": {
    "tags": []
   },
   "outputs": [
    {
     "name": "stderr",
     "output_type": "stream",
     "text": [
      "/home/semerhi/.pyenv/versions/3.8.3/envs/house_price_383_env/lib/python3.8/site-packages/numpy/lib/nanfunctions.py:1215: RuntimeWarning: Mean of empty slice\n",
      "  return np.nanmean(a, axis, out=out, keepdims=keepdims)\n"
     ]
    }
   ],
   "source": [
    "# Imputing LotFrontage missing values with the median value of the neighborhood\n",
    "df_baseline['LotFrontage'] = df_baseline.groupby('Neighborhood')['LotFrontage'].transform(lambda x: x.fillna(x.median()))\n",
    "df_baseline['LotFrontage'] = df_baseline['LotFrontage'].fillna(0)\n",
    "df_sample['LotFrontage'] = df_sample.groupby('Neighborhood')['LotFrontage'].transform(lambda x: x.fillna(x.median()))\n",
    "df_sample['LotFrontage'] = df_sample['LotFrontage'].fillna(0)"
   ]
  },
  {
   "cell_type": "code",
   "execution_count": 323,
   "metadata": {},
   "outputs": [],
   "source": [
    "# Imputing the rest of the missing values in categorical features with 'None'\n",
    "for col in list(df.select_dtypes(include=['object', 'category'])):\n",
    "    df_baseline[col] = df_baseline[col].fillna('None')\n",
    "    df_sample[col] = df_sample[col].fillna('None')"
   ]
  },
  {
   "cell_type": "code",
   "execution_count": 324,
   "id": "68db6ce5",
   "metadata": {},
   "outputs": [],
   "source": [
    "assert df_baseline.isna().sum().sum()==0\n",
    "assert df_sample.isna().sum().sum()==0"
   ]
  },
  {
   "cell_type": "markdown",
   "metadata": {},
   "source": [
    "Next, let's write up some functions that will convert some categorical features into numerical features, then apply those functions to our data."
   ]
  },
  {
   "cell_type": "code",
   "execution_count": 325,
   "metadata": {
    "tags": []
   },
   "outputs": [],
   "source": [
    "# Many columns use this generic scale\n",
    "generic = {\"Ex\": 5, \"Gd\": 4, \"TA\": 3, \"Fa\": 2, \"Po\": 1, \"None\": 0}\n",
    "garage_finish = {\"Fin\": 3, \"RFn\": 2, \"Unf\": 1, \"None\": 0}\n",
    "fin_type = {\"GLQ\": 6, \"ALQ\": 5, \"BLQ\": 4, \"Rec\": 3, \"LwQ\": 2, \"Unf\": 1, \"None\": 0}\n",
    "functional = {\n",
    "    \"Typ\": 7,\n",
    "    \"Min1\": 6,\n",
    "    \"Min2\": 5,\n",
    "    \"Mod\": 4,\n",
    "    \"Maj1\": 3,\n",
    "    \"Maj2\": 2,\n",
    "    \"Sev\": 1,\n",
    "    \"None\": 0,\n",
    "}\n"
   ]
  },
  {
   "cell_type": "code",
   "execution_count": 326,
   "metadata": {},
   "outputs": [],
   "source": [
    "# Generic conversions\n",
    "generic_columns = [\n",
    "    \"ExterQual\",\n",
    "    \"BsmtQual\",\n",
    "    \"ExterCond\",\n",
    "    \"BsmtCond\",\n",
    "    \"HeatingQC\",\n",
    "    \"KitchenQual\",\n",
    "    \"GarageQual\",\n",
    "    \"GarageCond\",\n",
    "    \"PoolQC\",\n",
    "    \"FireplaceQu\"\n",
    "]\n",
    "for col in generic_columns:\n",
    "    df_baseline[col] = df_baseline[col].map(generic)\n",
    "    df_sample[col] = df_sample[col].map(generic)\n"
   ]
  },
  {
   "cell_type": "code",
   "execution_count": 327,
   "metadata": {},
   "outputs": [],
   "source": [
    "# FinType conversionss\n",
    "fintype_columns = ['BsmtFinType1', 'BsmtFinType2']\n",
    "for col in fintype_columns:\n",
    "    df_baseline[col] = df_baseline[col].map(fin_type)\n",
    "    df_sample[col] = df_sample[col].map(fin_type)"
   ]
  },
  {
   "cell_type": "code",
   "execution_count": 328,
   "metadata": {},
   "outputs": [],
   "source": [
    "# Functional conversions\n",
    "df_baseline['Functional'] = df_baseline['Functional'].map(functional)\n",
    "df_sample['Functional'] = df_sample['Functional'].map(functional)"
   ]
  },
  {
   "cell_type": "code",
   "execution_count": 329,
   "metadata": {},
   "outputs": [],
   "source": [
    "# GarageFinish conversions\n",
    "df_baseline['GarageFinish'] = df_baseline['GarageFinish'].map(garage_finish)\n",
    "df_sample['GarageFinish'] = df_sample['GarageFinish'].map(garage_finish)"
   ]
  },
  {
   "cell_type": "markdown",
   "metadata": {},
   "source": [
    "We also have the `MSSubClass` numerical column which should be treated as a categorical column. We will convert this into an object column to later be one-hot-encoded."
   ]
  },
  {
   "cell_type": "code",
   "execution_count": 330,
   "metadata": {},
   "outputs": [],
   "source": [
    "df_baseline['MSSubClass'] = df_baseline['MSSubClass'].astype(str)\n",
    "df_sample['MSSubClass'] = df_sample['MSSubClass'].astype(str)"
   ]
  },
  {
   "cell_type": "code",
   "execution_count": 331,
   "id": "91c08072",
   "metadata": {},
   "outputs": [],
   "source": [
    "assert df_baseline.isna().sum().sum()==0\n",
    "assert df_sample.isna().sum().sum()==0"
   ]
  },
  {
   "cell_type": "markdown",
   "metadata": {},
   "source": [
    "Our data still contains non-predictive features, such as `Id` and `SalePrice`. We will set these aside and remove them the final list of predictive features."
   ]
  },
  {
   "cell_type": "code",
   "execution_count": 332,
   "metadata": {},
   "outputs": [],
   "source": [
    "df_baseline_ids = df_baseline['Id']\n",
    "df_sample_ids = df_sample['Id']\n",
    "\n",
    "predictive_features = sorted(\n",
    "    list(set(df_baseline.columns) - set([\"Id\", \"SalePrice\"]))\n",
    ")"
   ]
  },
  {
   "cell_type": "markdown",
   "metadata": {},
   "source": [
    "We'll proceed with model training. We need to specify **predictive** and **response** variables for each of the training and test sets."
   ]
  },
  {
   "cell_type": "code",
   "execution_count": 333,
   "metadata": {},
   "outputs": [],
   "source": [
    "X_train = df_baseline[predictive_features]\n",
    "X_test = df_sample[predictive_features]\n",
    "\n",
    "y_train = df_baseline['SalePrice']\n",
    "y_test = df_sample['SalePrice']"
   ]
  },
  {
   "cell_type": "markdown",
   "metadata": {},
   "source": [
    "Let's take a look at which columns contain muerical data and which contain categorical data. Some categorical features can easily be converted to numerical, as they might be ordinal. Other categorical features will have to be one-hot-encoded."
   ]
  },
  {
   "cell_type": "code",
   "execution_count": 334,
   "metadata": {},
   "outputs": [],
   "source": [
    "categorical_features = sorted(\n",
    "    list(\n",
    "        set(predictive_features).intersection(\n",
    "            set(X_train.select_dtypes(include=[\"object\", \"category\"]))\n",
    "        )\n",
    "    )\n",
    ")\n",
    "numerical_features = sorted(\n",
    "    list(\n",
    "        set(predictive_features).intersection(\n",
    "            set(X_train.select_dtypes(include=[\"number\"]))\n",
    "        )\n",
    "    )\n",
    ")"
   ]
  },
  {
   "cell_type": "markdown",
   "metadata": {},
   "source": [
    "**Categorical Features**"
   ]
  },
  {
   "cell_type": "code",
   "execution_count": 335,
   "id": "3d1c29db",
   "metadata": {},
   "outputs": [
    {
     "name": "stdout",
     "output_type": "stream",
     "text": [
      "['Alley', 'BldgType', 'BsmtExposure', 'CentralAir', 'Condition1', 'Condition2', 'Electrical', 'Exterior1st', 'Exterior2nd', 'Fence', 'Foundation', 'GarageType', 'Heating', 'HouseStyle', 'LandContour', 'LandSlope', 'LotConfig', 'LotShape', 'MSSubClass', 'MSZoning', 'MasVnrType', 'MiscFeature', 'Neighborhood', 'PavedDrive', 'RoofMatl', 'RoofStyle', 'SaleCondition', 'SaleType', 'Street', 'Utilities']\n"
     ]
    }
   ],
   "source": [
    "print(categorical_features)"
   ]
  },
  {
   "cell_type": "markdown",
   "metadata": {},
   "source": [
    "**Numerical Features**"
   ]
  },
  {
   "cell_type": "code",
   "execution_count": 336,
   "metadata": {},
   "outputs": [
    {
     "name": "stdout",
     "output_type": "stream",
     "text": [
      "['1stFlrSF', '2ndFlrSF', '3SsnPorch', 'BedroomAbvGr', 'BsmtCond', 'BsmtFinSF1', 'BsmtFinSF2', 'BsmtFinType1', 'BsmtFinType2', 'BsmtFullBath', 'BsmtHalfBath', 'BsmtQual', 'BsmtUnfSF', 'EnclosedPorch', 'ExterCond', 'ExterQual', 'FireplaceQu', 'Fireplaces', 'FullBath', 'Functional', 'GarageArea', 'GarageCars', 'GarageCond', 'GarageFinish', 'GarageQual', 'GarageYrBlt', 'GrLivArea', 'HalfBath', 'HeatingQC', 'KitchenAbvGr', 'KitchenQual', 'LotArea', 'LotFrontage', 'LowQualFinSF', 'MasVnrArea', 'MiscVal', 'MoSold', 'OpenPorchSF', 'OverallCond', 'OverallQual', 'PoolArea', 'PoolQC', 'ScreenPorch', 'TotRmsAbvGrd', 'TotalBsmtSF', 'WoodDeckSF', 'YearBuilt', 'YearRemodAdd', 'YrSold']\n"
     ]
    }
   ],
   "source": [
    "print(numerical_features)"
   ]
  },
  {
   "cell_type": "markdown",
   "id": "c51ffe73",
   "metadata": {},
   "source": [
    "Next, we One-Hot-Encode categoricals."
   ]
  },
  {
   "cell_type": "code",
   "execution_count": 337,
   "metadata": {},
   "outputs": [],
   "source": [
    "X_train = pandas.get_dummies(X_train, columns=categorical_features)\n",
    "X_test = pandas.get_dummies(X_test, columns=categorical_features)"
   ]
  },
  {
   "cell_type": "markdown",
   "metadata": {},
   "source": [
    "Let's do some **feature engineering**. While this portion of a data science project can be lengthy, we'll be doing some basic feature engineering in this example. A few ones that might be helpful are boolean features like `HasGarage` or `HasBsmt` and additive features like `TotalSF` or `TotalBathrooms`. We'll be adding `e` as a prefix to these columns to show that they have been engineered."
   ]
  },
  {
   "cell_type": "code",
   "execution_count": 338,
   "metadata": {},
   "outputs": [],
   "source": [
    "for data in [X_train, X_test]:\n",
    "    #  Computing total square footage as a new feature\n",
    "    data[\"eTotalSF\"] = data[\"TotalBsmtSF\"] + data[\"1stFlrSF\"] + data[\"2ndFlrSF\"]\n",
    "\n",
    "    #  Computing total 'porch' square-footage as a new feature\n",
    "    data[\"eTotalPorchSF\"] = (\n",
    "        data[\"OpenPorchSF\"]\n",
    "        + data[\"3SsnPorch\"]\n",
    "        + data[\"EnclosedPorch\"]\n",
    "        + data[\"ScreenPorch\"]\n",
    "        + data[\"WoodDeckSF\"]\n",
    "    )\n",
    "\n",
    "    #  Computing total bathrooms as a new feature\n",
    "    data[\"eTotalBathrooms\"] = (\n",
    "        data[\"FullBath\"]\n",
    "        + (0.5 * data[\"HalfBath\"])\n",
    "        + data[\"BsmtFullBath\"]\n",
    "        + (0.5 * data[\"BsmtHalfBath\"])\n",
    "    )\n"
   ]
  },
  {
   "cell_type": "code",
   "execution_count": 339,
   "metadata": {},
   "outputs": [],
   "source": [
    "# Engineering some features into Booleans\n",
    "for data in [X_train, X_test]:\n",
    "    data[\"eHasPool\"] = data[\"PoolArea\"] > 0\n",
    "    data[\"eHasGarage\"] = data[\"GarageArea\"] > 0\n",
    "    data[\"eHasBsmt\"] = data[\"TotalBsmtSF\"] > 0\n",
    "    data[\"eHasFireplace\"] = data[\"Fireplaces\"] > 0\n",
    "    # Feature to determine if a house had a remodeling\n",
    "    data[\"eHasRemodeling\"] = (data[\"YearRemodAdd\"] - data[\"YearBuilt\"]) > 0\n"
   ]
  },
  {
   "cell_type": "markdown",
   "metadata": {},
   "source": [
    "Let's engineer one more feature, `OverallQual_TotalSF`. This feature will be the multiplication of the `OverallQual` and `TotalSF` features. This specific combination of features, in fact, has the highest correlation to `SalePrice`."
   ]
  },
  {
   "cell_type": "code",
   "execution_count": 340,
   "metadata": {},
   "outputs": [],
   "source": [
    "for data in [X_train, X_test]:\n",
    "    data['eOverallQual_TotalSF'] = data['OverallQual'] * data['eTotalSF']"
   ]
  },
  {
   "cell_type": "markdown",
   "metadata": {},
   "source": [
    "Let's move on to **feature selection**. We want our final model to only have a limited number of features, as too many features will cause the model to overfit, though too little will not allow our model to perform well. We'll take a look at the correlation of `SalePrice` to all other columns to determine which ones have the most predictive power, and choose 10 features to predict with."
   ]
  },
  {
   "cell_type": "code",
   "execution_count": 341,
   "metadata": {},
   "outputs": [
    {
     "data": {
      "text/plain": [
       "[('SalePrice', 1.0),\n",
       " ('eOverallQual_TotalSF', 0.84),\n",
       " ('OverallQual', 0.79),\n",
       " ('eTotalSF', 0.77),\n",
       " ('GrLivArea', 0.7),\n",
       " ('ExterQual', 0.67),\n",
       " ('KitchenQual', 0.66),\n",
       " ('GarageCars', 0.64),\n",
       " ('GarageArea', 0.62),\n",
       " ('eTotalBathrooms', 0.62),\n",
       " ('TotalBsmtSF', 0.6),\n",
       " ('1stFlrSF', 0.59),\n",
       " ('BsmtQual', 0.59),\n",
       " ('FullBath', 0.55),\n",
       " ('GarageFinish', 0.55),\n",
       " ('FireplaceQu', 0.52),\n",
       " ('TotRmsAbvGrd', 0.52),\n",
       " ('YearBuilt', 0.52),\n",
       " ('GarageYrBlt', 0.51),\n",
       " ('YearRemodAdd', 0.51),\n",
       " ('Foundation_PConc', 0.49),\n",
       " ('eHasFireplace', 0.47),\n",
       " ('Fireplaces', 0.46),\n",
       " ('MasVnrArea', 0.46),\n",
       " ('HeatingQC', 0.44)]"
      ]
     },
     "execution_count": 341,
     "metadata": {},
     "output_type": "execute_result"
    }
   ],
   "source": [
    "X_train['SalePrice'] = y_train\n",
    "high_corr_columns = [(col, round(corr, 2)) for col, corr in X_train.corr()['SalePrice'].items() if abs(corr) >= 0.4]\n",
    "high_corr_columns.sort(key=lambda x:x[1], reverse=True)\n",
    "high_corr_columns"
   ]
  },
  {
   "cell_type": "code",
   "execution_count": 342,
   "metadata": {},
   "outputs": [],
   "source": [
    "# The final list of encoded columns - dropping SalePrice (target)\n",
    "train_encoded_columns = list(list(zip(*high_corr_columns))[0][1:])"
   ]
  },
  {
   "cell_type": "markdown",
   "metadata": {},
   "source": [
    "**II - Training the model**"
   ]
  },
  {
   "cell_type": "markdown",
   "metadata": {},
   "source": [
    "Let's move on to training the model. Let's first restrict our feature space to only be that of the final list of columns. We'll be saving this list, as we'll need it when we deploy the model."
   ]
  },
  {
   "cell_type": "code",
   "execution_count": 343,
   "metadata": {},
   "outputs": [],
   "source": [
    "# restricting X_train and X_test columns to only be final list of columns\n",
    "X_train = X_train[train_encoded_columns]\n",
    "X_test = X_test[train_encoded_columns]\n",
    "\n",
    "# Saving the final list of encoded columns\n",
    "pickle.dump(train_encoded_columns, open('./binaries/train_encoded_columns.pickle', 'wb'))"
   ]
  },
  {
   "cell_type": "markdown",
   "metadata": {},
   "source": [
    "Another thing we can do to make our model a bit more performant, as well as explainable, is to standardize the features. This will allow us to interpret the weights on each feature directly against each other."
   ]
  },
  {
   "cell_type": "code",
   "execution_count": 344,
   "metadata": {},
   "outputs": [
    {
     "data": {
      "text/plain": [
       "eOverallQual_TotalSF      int64\n",
       "OverallQual               int64\n",
       "eTotalSF                  int64\n",
       "GrLivArea                 int64\n",
       "ExterQual                 int64\n",
       "KitchenQual               int64\n",
       "GarageCars                int64\n",
       "GarageArea                int64\n",
       "eTotalBathrooms         float64\n",
       "TotalBsmtSF               int64\n",
       "1stFlrSF                  int64\n",
       "BsmtQual                  int64\n",
       "FullBath                  int64\n",
       "GarageFinish              int64\n",
       "FireplaceQu               int64\n",
       "TotRmsAbvGrd              int64\n",
       "YearBuilt                 int64\n",
       "GarageYrBlt             float64\n",
       "YearRemodAdd              int64\n",
       "Foundation_PConc          uint8\n",
       "eHasFireplace              bool\n",
       "Fireplaces                int64\n",
       "MasVnrArea              float64\n",
       "HeatingQC                 int64\n",
       "dtype: object"
      ]
     },
     "execution_count": 344,
     "metadata": {},
     "output_type": "execute_result"
    }
   ],
   "source": [
    "X_test.dtypes"
   ]
  },
  {
   "cell_type": "code",
   "execution_count": 346,
   "metadata": {},
   "outputs": [],
   "source": [
    "standard_scaler = StandardScaler()\n",
    "X_train_ss = standard_scaler.fit_transform(X_train.values)\n",
    "X_test_ss = standard_scaler.transform(X_test.values)\n",
    "pickle.dump(standard_scaler, open('./binaries/standard_scaler.pickle', 'wb'))"
   ]
  },
  {
   "cell_type": "markdown",
   "metadata": {},
   "source": [
    "One last thing we can do is to apply a logarithm to `SalePrice`. If we look at the distribution of values for `SalePrice`, we  notice that there is a right skew, with values at the top of the distribution quite distant from the average value of the distribution."
   ]
  },
  {
   "cell_type": "code",
   "execution_count": 347,
   "metadata": {},
   "outputs": [
    {
     "data": {
      "image/png": "[encoded data removed]",
      "text/plain": [
       "<Figure size 640x480 with 1 Axes>"
      ]
     },
     "metadata": {},
     "output_type": "display_data"
    }
   ],
   "source": [
    "import matplotlib.pyplot as plt\n",
    "plt.hist(y_train)\n",
    "plt.show()"
   ]
  },
  {
   "cell_type": "markdown",
   "metadata": {},
   "source": [
    "Applying a logarithm will allow the distribution to be centralized. We'll specifically use the `numpy.log1p()` function in case that there are values are 0. "
   ]
  },
  {
   "cell_type": "code",
   "execution_count": 348,
   "metadata": {},
   "outputs": [],
   "source": [
    "y_train_log = numpy.log1p(y_train)\n",
    "y_test_log = numpy.log1p(y_test)"
   ]
  },
  {
   "cell_type": "code",
   "execution_count": 349,
   "metadata": {},
   "outputs": [
    {
     "data": {
      "image/png": "[encoded data removed]",
      "text/plain": [
       "<Figure size 640x480 with 1 Axes>"
      ]
     },
     "metadata": {},
     "output_type": "display_data"
    }
   ],
   "source": [
    "y_train_log.hist();"
   ]
  },
  {
   "cell_type": "markdown",
   "metadata": {},
   "source": [
    "The distribution is now roughly normalized, and the model should be able to predict better. One thing we need to keep in mind, however, is that if we want predictions, we will have to inverse the logarithm on the outputs of the model."
   ]
  },
  {
   "cell_type": "markdown",
   "metadata": {},
   "source": [
    "We will train a **Lasso** linear regression model. Let's fit the model to the training data."
   ]
  },
  {
   "cell_type": "code",
   "execution_count": 350,
   "metadata": {},
   "outputs": [
    {
     "data": {
      "text/plain": [
       "0.826654198290621"
      ]
     },
     "execution_count": 350,
     "metadata": {},
     "output_type": "execute_result"
    }
   ],
   "source": [
    "# Finding the cross-validation score with 5 (default) folds, \n",
    "# showing how the model should generally perform, irrespective to how the data was split\n",
    "cross_val_score(LassoCV(max_iter=5000), X_train_ss, y_train_log).mean()"
   ]
  },
  {
   "cell_type": "code",
   "execution_count": 351,
   "metadata": {
    "tags": []
   },
   "outputs": [
    {
     "data": {
      "text/html": [
       "<style>#sk-container-id-3 {color: black;background-color: white;}#sk-container-id-3 pre{padding: 0;}#sk-container-id-3 div.sk-toggleable {background-color: white;}#sk-container-id-3 label.sk-toggleable__label {cursor: pointer;display: block;width: 100%;margin-bottom: 0;padding: 0.3em;box-sizing: border-box;text-align: center;}#sk-container-id-3 label.sk-toggleable__label-arrow:before {content: \"▸\";float: left;margin-right: 0.25em;color: #696969;}#sk-container-id-3 label.sk-toggleable__label-arrow:hover:before {color: black;}#sk-container-id-3 div.sk-estimator:hover label.sk-toggleable__label-arrow:before {color: black;}#sk-container-id-3 div.sk-toggleable__content {max-height: 0;max-width: 0;overflow: hidden;text-align: left;background-color: #f0f8ff;}#sk-container-id-3 div.sk-toggleable__content pre {margin: 0.2em;color: black;border-radius: 0.25em;background-color: #f0f8ff;}#sk-container-id-3 input.sk-toggleable__control:checked~div.sk-toggleable__content {max-height: 200px;max-width: 100%;overflow: auto;}#sk-container-id-3 input.sk-toggleable__control:checked~label.sk-toggleable__label-arrow:before {content: \"▾\";}#sk-container-id-3 div.sk-estimator input.sk-toggleable__control:checked~label.sk-toggleable__label {background-color: #d4ebff;}#sk-container-id-3 div.sk-label input.sk-toggleable__control:checked~label.sk-toggleable__label {background-color: #d4ebff;}#sk-container-id-3 input.sk-hidden--visually {border: 0;clip: rect(1px 1px 1px 1px);clip: rect(1px, 1px, 1px, 1px);height: 1px;margin: -1px;overflow: hidden;padding: 0;position: absolute;width: 1px;}#sk-container-id-3 div.sk-estimator {font-family: monospace;background-color: #f0f8ff;border: 1px dotted black;border-radius: 0.25em;box-sizing: border-box;margin-bottom: 0.5em;}#sk-container-id-3 div.sk-estimator:hover {background-color: #d4ebff;}#sk-container-id-3 div.sk-parallel-item::after {content: \"\";width: 100%;border-bottom: 1px solid gray;flex-grow: 1;}#sk-container-id-3 div.sk-label:hover label.sk-toggleable__label {background-color: #d4ebff;}#sk-container-id-3 div.sk-serial::before {content: \"\";position: absolute;border-left: 1px solid gray;box-sizing: border-box;top: 0;bottom: 0;left: 50%;z-index: 0;}#sk-container-id-3 div.sk-serial {display: flex;flex-direction: column;align-items: center;background-color: white;padding-right: 0.2em;padding-left: 0.2em;position: relative;}#sk-container-id-3 div.sk-item {position: relative;z-index: 1;}#sk-container-id-3 div.sk-parallel {display: flex;align-items: stretch;justify-content: center;background-color: white;position: relative;}#sk-container-id-3 div.sk-item::before, #sk-container-id-3 div.sk-parallel-item::before {content: \"\";position: absolute;border-left: 1px solid gray;box-sizing: border-box;top: 0;bottom: 0;left: 50%;z-index: -1;}#sk-container-id-3 div.sk-parallel-item {display: flex;flex-direction: column;z-index: 1;position: relative;background-color: white;}#sk-container-id-3 div.sk-parallel-item:first-child::after {align-self: flex-end;width: 50%;}#sk-container-id-3 div.sk-parallel-item:last-child::after {align-self: flex-start;width: 50%;}#sk-container-id-3 div.sk-parallel-item:only-child::after {width: 0;}#sk-container-id-3 div.sk-dashed-wrapped {border: 1px dashed gray;margin: 0 0.4em 0.5em 0.4em;box-sizing: border-box;padding-bottom: 0.4em;background-color: white;}#sk-container-id-3 div.sk-label label {font-family: monospace;font-weight: bold;display: inline-block;line-height: 1.2em;}#sk-container-id-3 div.sk-label-container {text-align: center;}#sk-container-id-3 div.sk-container {/* jupyter's `normalize.less` sets `[hidden] { display: none; }` but bootstrap.min.css set `[hidden] { display: none !important; }` so we also need the `!important` here to be able to override the default hidden behavior on the sphinx rendered scikit-learn.org. See: https://github.com/scikit-learn/scikit-learn/issues/21755 */display: inline-block !important;position: relative;}#sk-container-id-3 div.sk-text-repr-fallback {display: none;}</style><div id=\"sk-container-id-3\" class=\"sk-top-container\"><div class=\"sk-text-repr-fallback\"><pre>LassoCV(max_iter=5000)</pre><b>In a Jupyter environment, please rerun this cell to show the HTML representation or trust the notebook. <br />On GitHub, the HTML representation is unable to render, please try loading this page with nbviewer.org.</b></div><div class=\"sk-container\" hidden><div class=\"sk-item\"><div class=\"sk-estimator sk-toggleable\"><input class=\"sk-toggleable__control sk-hidden--visually\" id=\"sk-estimator-id-3\" type=\"checkbox\" checked><label for=\"sk-estimator-id-3\" class=\"sk-toggleable__label sk-toggleable__label-arrow\">LassoCV</label><div class=\"sk-toggleable__content\"><pre>LassoCV(max_iter=5000)</pre></div></div></div></div></div>"
      ],
      "text/plain": [
       "LassoCV(max_iter=5000)"
      ]
     },
     "execution_count": 351,
     "metadata": {},
     "output_type": "execute_result"
    }
   ],
   "source": [
    "lasso = LassoCV(max_iter=5000)\n",
    "lasso.fit(X_train_ss, y_train_log)"
   ]
  },
  {
   "cell_type": "code",
   "execution_count": 352,
   "metadata": {},
   "outputs": [
    {
     "data": {
      "text/plain": [
       "0.8524822989875176"
      ]
     },
     "execution_count": 352,
     "metadata": {},
     "output_type": "execute_result"
    }
   ],
   "source": [
    "lasso.score(X_train_ss, y_train_log)"
   ]
  },
  {
   "cell_type": "code",
   "execution_count": 353,
   "metadata": {},
   "outputs": [
    {
     "data": {
      "text/plain": [
       "0.8574187125985915"
      ]
     },
     "execution_count": 353,
     "metadata": {},
     "output_type": "execute_result"
    }
   ],
   "source": [
    "lasso.score(X_test_ss, y_test_log)"
   ]
  },
  {
   "cell_type": "markdown",
   "metadata": {},
   "source": [
    "**III - Model Evaluation**"
   ]
  },
  {
   "cell_type": "markdown",
   "metadata": {
    "tags": []
   },
   "source": [
    "Before saving our trained model for further use, let's take a look at some performance metrics. We will evaluate the model on both the training and test sets; we want to see a stable performance between the two.  \n",
    "\n",
    "For repeatability, let's define a function which computes multiple metrics at once."
   ]
  },
  {
   "cell_type": "code",
   "execution_count": 354,
   "metadata": {},
   "outputs": [],
   "source": [
    "def compute_regression_metrics(y_true: pandas.Series, y_preds: pandas.Series) -> dict:\n",
    "    \"\"\"\n",
    "    A function to evaluate a regression model.\n",
    "\n",
    "    Args:\n",
    "        y_true (pandas.Series): true (ground truth) values\n",
    "        y_preds (pandas.Series): predicted values (as predicted by model)\n",
    "\n",
    "    Returns:\n",
    "        (dict): Multiple regression performance metrics: MAE, RMSE, r2_score\n",
    "    \"\"\"\n",
    "\n",
    "    return {\n",
    "        \"Mean Absolute Error\": numpy.round(mean_absolute_error(y_true, y_preds), 2),\n",
    "        \"Root Mean Squared Error\": numpy.round(\n",
    "            mean_squared_error(y_true, y_preds) ** 0.5, 2\n",
    "        ),\n",
    "        \"R2 Score\": numpy.round(r2_score(y_true, y_preds), 3),\n",
    "    }\n"
   ]
  },
  {
   "cell_type": "markdown",
   "metadata": {},
   "source": [
    "Let's compute predictions on both training and test sets. Remember, we need to apply an inverse log to convert the outputs into the same units as our inputs."
   ]
  },
  {
   "cell_type": "code",
   "execution_count": 355,
   "metadata": {},
   "outputs": [],
   "source": [
    "y_train_preds = numpy.round(numpy.expm1(lasso.predict(X_train_ss)), 2)\n",
    "y_test_preds = numpy.round(numpy.expm1(lasso.predict(X_test_ss)), 2)"
   ]
  },
  {
   "cell_type": "code",
   "execution_count": 356,
   "metadata": {
    "tags": []
   },
   "outputs": [],
   "source": [
    "performance_df = pandas.DataFrame(\n",
    "    data=[{}],\n",
    "    columns=['Mean Absolute Error', 'Root Mean Squared Error', 'R2 Score'],\n",
    "    index=['Training Set', 'Test Set']\n",
    ")\n",
    "performance_df.loc['Training Set', :] = compute_regression_metrics(y_train, y_train_preds)\n",
    "performance_df.loc['Test Set', :] = compute_regression_metrics(y_test, y_test_preds)"
   ]
  },
  {
   "cell_type": "markdown",
   "metadata": {},
   "source": [
    "Let's look at how our model performed:"
   ]
  },
  {
   "cell_type": "code",
   "execution_count": 357,
   "metadata": {},
   "outputs": [
    {
     "data": {
      "text/html": [
       "<div>\n",
       "<style scoped>\n",
       "    .dataframe tbody tr th:only-of-type {\n",
       "        vertical-align: middle;\n",
       "    }\n",
       "\n",
       "    .dataframe tbody tr th {\n",
       "        vertical-align: top;\n",
       "    }\n",
       "\n",
       "    .dataframe thead th {\n",
       "        text-align: right;\n",
       "    }\n",
       "</style>\n",
       "<table border=\"1\" class=\"dataframe\">\n",
       "  <thead>\n",
       "    <tr style=\"text-align: right;\">\n",
       "      <th></th>\n",
       "      <th>Mean Absolute Error</th>\n",
       "      <th>Root Mean Squared Error</th>\n",
       "      <th>R2 Score</th>\n",
       "    </tr>\n",
       "  </thead>\n",
       "  <tbody>\n",
       "    <tr>\n",
       "      <th>Training Set</th>\n",
       "      <td>19555.96</td>\n",
       "      <td>33471.99</td>\n",
       "      <td>0.812</td>\n",
       "    </tr>\n",
       "    <tr>\n",
       "      <th>Test Set</th>\n",
       "      <td>20984.15</td>\n",
       "      <td>34891.06</td>\n",
       "      <td>0.841</td>\n",
       "    </tr>\n",
       "  </tbody>\n",
       "</table>\n",
       "</div>"
      ],
      "text/plain": [
       "              Mean Absolute Error  Root Mean Squared Error  R2 Score\n",
       "Training Set             19555.96                 33471.99     0.812\n",
       "Test Set                 20984.15                 34891.06     0.841"
      ]
     },
     "execution_count": 357,
     "metadata": {},
     "output_type": "execute_result"
    }
   ],
   "source": [
    "performance_df"
   ]
  },
  {
   "cell_type": "markdown",
   "metadata": {},
   "source": [
    "The performanc meterics are comparable between the two sets."
   ]
  },
  {
   "cell_type": "markdown",
   "metadata": {},
   "source": [
    "**IV - Saving and Loading the Trained Model**"
   ]
  },
  {
   "cell_type": "markdown",
   "metadata": {},
   "source": [
    "Now that the model is **trained** and **evaluated**, we save it in a binary format. It will later be loaded and used to make new predictions."
   ]
  },
  {
   "cell_type": "code",
   "execution_count": 358,
   "metadata": {},
   "outputs": [],
   "source": [
    "pickle.dump(lasso, open('./binaries/lasso_regression.pickle', 'wb'))"
   ]
  },
  {
   "cell_type": "markdown",
   "metadata": {},
   "source": [
    "The model is reloaded on-demands as follows:"
   ]
  },
  {
   "cell_type": "code",
   "execution_count": 359,
   "metadata": {},
   "outputs": [],
   "source": [
    "lasso_loaded = pickle.load(open('./binaries/lasso_regression.pickle', 'rb'))"
   ]
  },
  {
   "cell_type": "markdown",
   "metadata": {},
   "source": [
    "Predictions can be produced on-demand by calling the `predict()` function:"
   ]
  },
  {
   "cell_type": "code",
   "execution_count": 360,
   "metadata": {},
   "outputs": [
    {
     "name": "stderr",
     "output_type": "stream",
     "text": [
      "/home/semerhi/.pyenv/versions/3.8.3/envs/house_price_383_env/lib/python3.8/site-packages/sklearn/base.py:443: UserWarning: X has feature names, but LassoCV was fitted without feature names\n",
      "  warnings.warn(\n"
     ]
    }
   ],
   "source": [
    "new_preds = lasso_loaded.predict(X_test)"
   ]
  },
  {
   "cell_type": "markdown",
   "metadata": {},
   "source": [
    "Before heading into the next section, let's append our predictions to our `_scored` DataFrames and save them. Once again, these data sets will be used mainly for monitoring purposes. Note that the features on these datasets will be the final list of features used that the model expects during prediction."
   ]
  },
  {
   "cell_type": "code",
   "execution_count": 361,
   "metadata": {},
   "outputs": [],
   "source": [
    "all_cols = train_encoded_columns.copy()\n",
    "\n",
    "all_cols.append('SalePrice')\n",
    "\n",
    "cols_reordered = ['Id', 'prediction', 'SalePrice']\n",
    "cols_reordered.extend(train_encoded_columns)\n",
    "\n",
    "X_train['SalePrice'] = y_train\n",
    "X_test['SalePrice'] = y_test\n",
    "\n",
    "df_baseline_scored = X_train[all_cols]\n",
    "df_baseline_scored['prediction'] = y_train_preds\n",
    "df_baseline_scored['Id'] = df_baseline_ids\n",
    "df_baseline_scored = df_baseline_scored[cols_reordered]\n",
    "\n",
    "df_sample_scored = X_test[all_cols]\n",
    "df_sample_scored['prediction'] = y_test_preds\n",
    "df_sample_scored['Id'] = df_sample_ids\n",
    "df_sample_scored = df_sample_scored[cols_reordered]\n",
    "\n",
    "df_baseline_scored.to_json('./data/df_baseline_scored.json', orient='records', lines=True)\n",
    "df_sample_scored.to_json('./data/df_sample_scored.json', orient='records', lines=True)"
   ]
  },
  {
   "cell_type": "markdown",
   "metadata": {},
   "source": [
    "**V - Preparing Model Code for Deployment**"
   ]
  },
  {
   "cell_type": "markdown",
   "metadata": {},
   "source": [
    "Conformance is best demonstrated through example. Let's look at the code below:"
   ]
  },
  {
   "cell_type": "code",
   "execution_count": 362,
   "id": "0411d0b6",
   "metadata": {},
   "outputs": [
    {
     "data": {
      "text/plain": [
       "['eOverallQual_TotalSF',\n",
       " 'OverallQual',\n",
       " 'eTotalSF',\n",
       " 'GrLivArea',\n",
       " 'ExterQual',\n",
       " 'KitchenQual',\n",
       " 'GarageCars',\n",
       " 'GarageArea',\n",
       " 'eTotalBathrooms',\n",
       " 'TotalBsmtSF',\n",
       " '1stFlrSF',\n",
       " 'BsmtQual',\n",
       " 'FullBath',\n",
       " 'GarageFinish',\n",
       " 'FireplaceQu',\n",
       " 'TotRmsAbvGrd',\n",
       " 'YearBuilt',\n",
       " 'GarageYrBlt',\n",
       " 'YearRemodAdd',\n",
       " 'Foundation_PConc',\n",
       " 'eHasFireplace',\n",
       " 'Fireplaces',\n",
       " 'MasVnrArea',\n",
       " 'HeatingQC']"
      ]
     },
     "execution_count": 362,
     "metadata": {},
     "output_type": "execute_result"
    }
   ],
   "source": [
    "train_encoded_columns"
   ]
  },
  {
   "cell_type": "code",
   "execution_count": 1,
   "metadata": {},
   "outputs": [],
   "source": [
    "import logging\n",
    "import pickle\n",
    "from typing import List\n",
    "\n",
    "import pandas\n",
    "import numpy\n",
    "from sklearn.metrics import r2_score, mean_squared_error, mean_absolute_error\n",
    "from sklearn.linear_model import LassoCV\n",
    "from sklearn.preprocessing import StandardScaler\n",
    "\n",
    "logger = logging.getLogger(__name__)\n",
    "logging.basicConfig(level=\"INFO\")\n",
    "\n",
    "\n",
    "def init() -> None:\n",
    "    \"\"\"\n",
    "    A function to load the trained model artifacts (.pickle files) as a glocal variables.\n",
    "    These will be used by other functions to produce predictions.\n",
    "    \"\"\"\n",
    "\n",
    "    global lasso_model\n",
    "    global standard_scaler\n",
    "    global train_encoded_columns\n",
    "\n",
    "    # Load pickled Lasso linear regression model\n",
    "    lasso_model = pickle.load(open(\"./binaries/lasso_regression.pickle\", \"rb\"))\n",
    "    # Load pickled standard scaler\n",
    "    standard_scaler = pickle.load(open(\"./binaries/standard_scaler.pickle\", \"rb\"))\n",
    "    # Load train_encoded_columns\n",
    "    train_encoded_columns = pickle.load(\n",
    "        open(\"./binaries/train_encoded_columns.pickle\", \"rb\")\n",
    "    )\n",
    "\n",
    "    logger.info(\n",
    "        \"'lasso_regressin.pickle', 'standard_scaler.pickle', and 'train_encoded_columns.pickle' \\\n",
    "        files loaded to respective variables\"\n",
    "    )\n",
    "\n",
    "\n",
    "def score(data: dict) -> dict:\n",
    "    \"\"\"\n",
    "    A function to predict hopuse sale price, given information about the property.\n",
    "\n",
    "    Args:\n",
    "        data (dict): input dictionary to be scored, containing predictive features.\n",
    "\n",
    "    Returns:\n",
    "        (dict): Scored (predicted) input data.\n",
    "    \"\"\"\n",
    "\n",
    "    # Turn input data into a 1-record DataFrame\n",
    "    logger.info(\"Loading input record into a pandas.DataFrame\")\n",
    "    input_data = pandas.DataFrame([data])\n",
    "\n",
    "    # Process input_data\n",
    "    logger.info(\"Applying inmputations, feature eng, and scaling to input_data\")\n",
    "    input_data = process(\n",
    "        input_data=input_data, \n",
    "        train_encoded_columns=train_encoded_columns,\n",
    "        apply_scaler=True,\n",
    "        standard_scaler=standard_scaler\n",
    "    )\n",
    "\n",
    "    # Generate predictions\n",
    "    logger.info(\"Generating predictions with the model and appending onto DataFrame\")\n",
    "    input_data.loc[:, \"prediction\"] = numpy.round(\n",
    "        numpy.expm1(lasso_model.predict(input_data.values)), 2\n",
    "    )\n",
    "\n",
    "    return input_data.to_dict(orient=\"records\")\n",
    "\n",
    "\n",
    "def metrics(metrics_data: pandas.DataFrame) -> dict:\n",
    "    \"\"\"\n",
    "    A function to compute regression metrics on scored and labeled data.\n",
    "\n",
    "    Args:\n",
    "        data (pandas.DataFrame): Dataframe of houses, including ground truths, predictions.\n",
    "\n",
    "    Returns:\n",
    "        (dict): MAE, RMSE, r2_score.\n",
    "    \"\"\"\n",
    "\n",
    "    logger.info(\"Grabbing relevant columns to calculate metrics\")\n",
    "    y = metrics_data[\"SalePrice\"]\n",
    "    y_preds = metrics_data[\"prediction\"]\n",
    "\n",
    "    logger.info(\"Computing MAE, RMSE, R2 scores\")\n",
    "    output_metrics = {\n",
    "        \"MAE\": mean_absolute_error(y, y_preds),\n",
    "        \"RMSE\": mean_squared_error(y, y_preds) ** 0.5,\n",
    "        \"R2\": r2_score(y, y_preds),\n",
    "    }\n",
    "\n",
    "    logger.info(\"Metrics job complete!\")\n",
    "\n",
    "    return output_metrics\n",
    "\n",
    "\n",
    "def train(training_data: pandas.DataFrame) -> None:\n",
    "    \"\"\"\n",
    "    A function to retrain the Lasso model. The same encoded columns are\n",
    "    usd from the initial training; howver, with new data, weights are likely\n",
    "    to be different, and so is the standard scaler.\n",
    "\n",
    "    The unction writes to ./retrained_binaries/ 2 pickle files, corresponding\n",
    "    to the updated scaler and regression weights.\n",
    "\n",
    "    Args:\n",
    "        training_data (pandas.DataFrame): Data used to retrain the model. Must contain\n",
    "            grount tuth ('SalePrice').\n",
    "    \"\"\"\n",
    "\n",
    "    # Set aside ground truth to later re-append to dataframe\n",
    "    y_train = training_data[\"SalePrice\"]\n",
    "\n",
    "    # process input data\n",
    "    X_train = process(\n",
    "        input_data=training_data, \n",
    "        train_encoded_columns=train_encoded_columns,\n",
    "        apply_scaler=False\n",
    "    )\n",
    "\n",
    "    # Scale inputs\n",
    "    standard_scaler = StandardScaler()\n",
    "    standard_scaler.fit_transform(X_train.values)\n",
    "    logger.info(\"Scaling data with standard scaler\")\n",
    "    X_train = pandas.DataFrame(\n",
    "        standard_scaler.transform(X_train.values),\n",
    "        index=X_train.index,\n",
    "        columns=X_train.columns,\n",
    "    )\n",
    "\n",
    "    pickle.dump(\n",
    "        standard_scaler, open(\"./retrained_binaries/standard_scaler.pickle\", \"wb\")\n",
    "    )\n",
    "\n",
    "    # Apply log to distribution of y-values\n",
    "    y_train_log = numpy.log1p(y_train)\n",
    "\n",
    "    # Train and pickle model artifact\n",
    "    logger.info(\"Fitting LASSO model\")\n",
    "    lasso = LassoCV(max_iter=1000)\n",
    "    lasso.fit(X_train, y_train_log)\n",
    "    logger.info(\"Pickling trained LASSO model\")\n",
    "\n",
    "    # Pickle file should be written to outputDir/\n",
    "    with open(\"./retrained_binaries/lasso_regression.pickle\", \"wb\") as lasso_file:\n",
    "        pickle.dump(lasso, lasso_file)\n",
    "\n",
    "    logger.info(\"Training job complete!\")\n",
    "\n",
    "\n",
    "def process(\n",
    "    input_data: pandas.DataFrame,\n",
    "    train_encoded_columns: List[str],\n",
    "    apply_scaler: bool,\n",
    "    standard_scaler: StandardScaler = None,\n",
    ") -> pandas.DataFrame:\n",
    "    \"\"\"\n",
    "    A function to apply imputations, feature engineering, scaling to input data.\n",
    "\n",
    "    Args:\n",
    "        input_data (pandas.DataFrame): Data to be processed.\n",
    "        train_encoded_columns (List[str]): Columns produced and encoded by the training step.\n",
    "        apply_scaler (bool): Flag to indicate whether to apply a pre-configured standard scaler.\n",
    "        standard_scaler (sklearn.preprocessing._data.StandardScaler): Pre-trained standard scaler.\n",
    "            Only used if apply_scaler=True.\n",
    "\n",
    "    Returns:\n",
    "        (pandas.DataFrame): Processed DataFrame.\n",
    "    \"\"\"\n",
    "\n",
    "    # Dictionaries to convert values in certain columns\n",
    "    generic = {\"Ex\": 5, \"Gd\": 4, \"TA\": 3, \"Fa\": 2, \"Po\": 1, \"None\": 0}\n",
    "    garage_finish = {\"Fin\": 3, \"RFn\": 2, \"Unf\": 1, \"None\": 0}\n",
    "\n",
    "    # Imputations\n",
    "    logger.info(\"Imputing input dataset\")\n",
    "    input_data[\"GarageYrBlt\"] = input_data[\"GarageYrBlt\"].fillna(\n",
    "        input_data[\"YearBuilt\"]\n",
    "    )\n",
    "    for col in [\"GarageFinish\", \"BsmtQual\", \"FireplaceQu\"]:\n",
    "        input_data[col] = input_data[col].fillna(\"None\")\n",
    "    # The rest of NaNs will be filled with 0s - end model only uses numerical features\n",
    "    for col in input_data.columns:\n",
    "        input_data[col] = input_data[col].fillna(0)\n",
    "\n",
    "    generic_columns = [\n",
    "        \"ExterQual\",\n",
    "        \"BsmtQual\",\n",
    "        \"HeatingQC\",\n",
    "        \"KitchenQual\",\n",
    "        \"FireplaceQu\",\n",
    "    ]\n",
    "    # Converting categorical values from certain features into numerical\n",
    "    for col in generic_columns:\n",
    "        input_data[col] = input_data[col].map(generic)\n",
    "\n",
    "    input_data[\"GarageFinish\"] = input_data[\"GarageFinish\"].map(garage_finish)\n",
    "\n",
    "    # Feature engineering\n",
    "    input_data[\"eHasFireplace\"] = input_data[\"Fireplaces\"] > 0\n",
    "    input_data[\"eTotalSF\"] = (\n",
    "        input_data[\"TotalBsmtSF\"] + input_data[\"1stFlrSF\"] + input_data[\"2ndFlrSF\"]\n",
    "    )\n",
    "    input_data[\"eTotalBathrooms\"] = (\n",
    "        input_data[\"FullBath\"]\n",
    "        + (0.5 * input_data[\"HalfBath\"])\n",
    "        + input_data[\"BsmtFullBath\"]\n",
    "        + (0.5 * input_data[\"BsmtHalfBath\"])\n",
    "    )\n",
    "    input_data[\"eOverallQual_TotalSF\"] = (\n",
    "        input_data[\"OverallQual\"] * input_data[\"eTotalSF\"]\n",
    "    )\n",
    "\n",
    "    input_data[\"Foundation_PConc\"] = input_data[\"Foundation\"] == \"PConc\"\n",
    "\n",
    "    # Limiting features to just the ones the model needs\n",
    "    logger.info(\"Selecting columns that model is expecting\")\n",
    "    input_data = input_data[train_encoded_columns]\n",
    "\n",
    "    if apply_scaler:\n",
    "        # Scale inputs\n",
    "        logger.info(\"Scaling data with pickled standard scaler\")\n",
    "        input_data = pandas.DataFrame(\n",
    "            standard_scaler.transform(input_data.values),\n",
    "            index=input_data.index,\n",
    "            columns=input_data.columns,\n",
    "        )\n",
    "\n",
    "    return input_data\n"
   ]
  },
  {
   "cell_type": "markdown",
   "metadata": {},
   "source": [
    "There are five main sections to the code above:\n",
    "1. Library imports\n",
    "2. `init` function\n",
    "3. `score` function\n",
    "4. `metrics` function\n",
    "5. `train` function\n",
    "\n",
    "**Library** imports are always at the top. We don't need to include all libraries that we used for training and model evaluation. We just need the libraries for processing and scoring.\n",
    "\n",
    "The **`init`** function runs once per deployment, and is used to load and persist into memory any variable that needs to be accessed at scoring time. For example, the init function is where we load the saved model binary, scalers, and any other dependencies. We make the variables global so they can be accessed from the scoring function. In our example, we also included the `train_encoded_columns` as this information will not change per prediction and only needs to be instantiated once.\n",
    "\n",
    "The **`score`** function is the function that runs anytime we make a scoring (prediction) request. This is where we put our prediction code. We have to remember to include any steps that were not captured by the pipeline, such as feature engineering or re-encoding.\n",
    "\n",
    "The **`metrics`** functions is where model evaluation is carried out. In our example, this is the place where we compute regression metrics.\n",
    "\n",
    "The **`train`** function is where model (re)training is carried out."
   ]
  },
  {
   "cell_type": "markdown",
   "metadata": {},
   "source": [
    "Let us test our source code to see if we missed anything. We will load input data and scored input data to the scoring, metrics, and training functions:"
   ]
  },
  {
   "cell_type": "code",
   "execution_count": 2,
   "metadata": {},
   "outputs": [],
   "source": [
    "# This is for the action function (scoring)\n",
    "scoring_sample = pandas.read_json('./data/df_baseline.json', orient='records', lines=True)\n",
    "\n",
    "# These are for the metrics function\n",
    "metrics_baseline_input = pandas.read_json('./data/df_baseline_scored.json', orient='records', lines=True)\n",
    "metrics_sample_input = pandas.read_json('./data/df_sample_scored.json', orient='records', lines=True)"
   ]
  },
  {
   "cell_type": "markdown",
   "metadata": {},
   "source": [
    "Let's check that the **`init`** function can load the trained model binary:"
   ]
  },
  {
   "cell_type": "code",
   "execution_count": 3,
   "metadata": {
    "tags": []
   },
   "outputs": [
    {
     "name": "stderr",
     "output_type": "stream",
     "text": [
      "INFO:__main__:'lasso_regressin.pickle', 'standard_scaler.pickle', and 'train_encoded_columns.pickle'         files loaded to respective variables\n"
     ]
    }
   ],
   "source": [
    "init()"
   ]
  },
  {
   "cell_type": "markdown",
   "metadata": {},
   "source": [
    "No errors from the **`init`** function. Let's make a call to the **`score`** function on input data:"
   ]
  },
  {
   "cell_type": "code",
   "execution_count": 4,
   "metadata": {},
   "outputs": [
    {
     "name": "stderr",
     "output_type": "stream",
     "text": [
      "INFO:__main__:Loading input record into a pandas.DataFrame\n",
      "INFO:__main__:Applying inmputations, feature eng, and scaling to input_data\n",
      "INFO:__main__:Imputing input dataset\n",
      "INFO:__main__:Selecting columns that model is expecting\n",
      "INFO:__main__:Scaling data with pickled standard scaler\n",
      "INFO:__main__:Generating predictions with the model and appending onto DataFrame\n"
     ]
    }
   ],
   "source": [
    "scores = pandas.DataFrame(\n",
    "    score(scoring_sample.iloc[0]) # predicting on the first record\n",
    ")"
   ]
  },
  {
   "cell_type": "code",
   "execution_count": 5,
   "metadata": {
    "tags": []
   },
   "outputs": [
    {
     "data": {
      "text/html": [
       "<div>\n",
       "<style scoped>\n",
       "    .dataframe tbody tr th:only-of-type {\n",
       "        vertical-align: middle;\n",
       "    }\n",
       "\n",
       "    .dataframe tbody tr th {\n",
       "        vertical-align: top;\n",
       "    }\n",
       "\n",
       "    .dataframe thead th {\n",
       "        text-align: right;\n",
       "    }\n",
       "</style>\n",
       "<table border=\"1\" class=\"dataframe\">\n",
       "  <thead>\n",
       "    <tr style=\"text-align: right;\">\n",
       "      <th></th>\n",
       "      <th>eOverallQual_TotalSF</th>\n",
       "      <th>OverallQual</th>\n",
       "      <th>eTotalSF</th>\n",
       "      <th>GrLivArea</th>\n",
       "      <th>ExterQual</th>\n",
       "      <th>KitchenQual</th>\n",
       "      <th>GarageCars</th>\n",
       "      <th>GarageArea</th>\n",
       "      <th>eTotalBathrooms</th>\n",
       "      <th>TotalBsmtSF</th>\n",
       "      <th>...</th>\n",
       "      <th>TotRmsAbvGrd</th>\n",
       "      <th>YearBuilt</th>\n",
       "      <th>GarageYrBlt</th>\n",
       "      <th>YearRemodAdd</th>\n",
       "      <th>Foundation_PConc</th>\n",
       "      <th>eHasFireplace</th>\n",
       "      <th>Fireplaces</th>\n",
       "      <th>MasVnrArea</th>\n",
       "      <th>HeatingQC</th>\n",
       "      <th>prediction</th>\n",
       "    </tr>\n",
       "  </thead>\n",
       "  <tbody>\n",
       "    <tr>\n",
       "      <th>0</th>\n",
       "      <td>-0.394052</td>\n",
       "      <td>-0.820445</td>\n",
       "      <td>0.054233</td>\n",
       "      <td>-0.407093</td>\n",
       "      <td>-0.687421</td>\n",
       "      <td>-0.767076</td>\n",
       "      <td>-1.056544</td>\n",
       "      <td>-0.863837</td>\n",
       "      <td>-0.285144</td>\n",
       "      <td>0.572612</td>\n",
       "      <td>...</td>\n",
       "      <td>-0.964566</td>\n",
       "      <td>-0.455469</td>\n",
       "      <td>-0.737445</td>\n",
       "      <td>-1.346063</td>\n",
       "      <td>-0.895806</td>\n",
       "      <td>-1.065497</td>\n",
       "      <td>-0.958592</td>\n",
       "      <td>-0.597889</td>\n",
       "      <td>-1.168292</td>\n",
       "      <td>128695.92</td>\n",
       "    </tr>\n",
       "  </tbody>\n",
       "</table>\n",
       "<p>1 rows × 25 columns</p>\n",
       "</div>"
      ],
      "text/plain": [
       "   eOverallQual_TotalSF  OverallQual  eTotalSF  GrLivArea  ExterQual  \\\n",
       "0             -0.394052    -0.820445  0.054233  -0.407093  -0.687421   \n",
       "\n",
       "   KitchenQual  GarageCars  GarageArea  eTotalBathrooms  TotalBsmtSF  ...  \\\n",
       "0    -0.767076   -1.056544   -0.863837        -0.285144     0.572612  ...   \n",
       "\n",
       "   TotRmsAbvGrd  YearBuilt  GarageYrBlt  YearRemodAdd  Foundation_PConc  \\\n",
       "0     -0.964566  -0.455469    -0.737445     -1.346063         -0.895806   \n",
       "\n",
       "   eHasFireplace  Fireplaces  MasVnrArea  HeatingQC  prediction  \n",
       "0      -1.065497   -0.958592   -0.597889  -1.168292   128695.92  \n",
       "\n",
       "[1 rows x 25 columns]"
      ]
     },
     "execution_count": 5,
     "metadata": {},
     "output_type": "execute_result"
    }
   ],
   "source": [
    "scores"
   ]
  },
  {
   "cell_type": "markdown",
   "metadata": {},
   "source": [
    "We have scores! Next, et's call the **`metrics`** function on scored and labeled data:"
   ]
  },
  {
   "cell_type": "code",
   "execution_count": 6,
   "metadata": {},
   "outputs": [
    {
     "name": "stderr",
     "output_type": "stream",
     "text": [
      "INFO:__main__:Grabbing relevant columns to calculate metrics\n",
      "INFO:__main__:Computing MAE, RMSE, R2 scores\n",
      "INFO:__main__:Metrics job complete!\n"
     ]
    },
    {
     "data": {
      "text/plain": [
       "{'MAE': 19555.955967465754,\n",
       " 'RMSE': 33471.990156622014,\n",
       " 'R2': 0.8121611766672495}"
      ]
     },
     "execution_count": 6,
     "metadata": {},
     "output_type": "execute_result"
    }
   ],
   "source": [
    "metrics(metrics_baseline_input)"
   ]
  },
  {
   "cell_type": "code",
   "execution_count": 7,
   "metadata": {},
   "outputs": [
    {
     "name": "stderr",
     "output_type": "stream",
     "text": [
      "INFO:__main__:Grabbing relevant columns to calculate metrics\n",
      "INFO:__main__:Computing MAE, RMSE, R2 scores\n",
      "INFO:__main__:Metrics job complete!\n"
     ]
    },
    {
     "data": {
      "text/plain": [
       "{'MAE': 20984.14589041096,\n",
       " 'RMSE': 34891.061953123615,\n",
       " 'R2': 0.8412862541522661}"
      ]
     },
     "execution_count": 7,
     "metadata": {},
     "output_type": "execute_result"
    }
   ],
   "source": [
    "metrics(metrics_sample_input)"
   ]
  },
  {
   "cell_type": "markdown",
   "id": "db953b47",
   "metadata": {},
   "source": [
    " Looks good! Finally, let's call he training function on labeled data:"
   ]
  },
  {
   "cell_type": "code",
   "execution_count": 8,
   "id": "e0be8e57",
   "metadata": {},
   "outputs": [
    {
     "name": "stderr",
     "output_type": "stream",
     "text": [
      "INFO:__main__:Imputing input dataset\n",
      "INFO:__main__:Selecting columns that model is expecting\n",
      "INFO:__main__:Scaling data with standard scaler\n",
      "INFO:__main__:Fitting LASSO model\n",
      "INFO:__main__:Pickling trained LASSO model\n",
      "INFO:__main__:Training job complete!\n"
     ]
    }
   ],
   "source": [
    "train(scoring_sample)"
   ]
  },
  {
   "cell_type": "code",
   "execution_count": 9,
   "id": "bb77b6a1",
   "metadata": {},
   "outputs": [
    {
     "data": {
      "text/plain": [
       "sklearn.preprocessing._data.StandardScaler"
      ]
     },
     "execution_count": 9,
     "metadata": {},
     "output_type": "execute_result"
    }
   ],
   "source": [
    "type(standard_scaler)"
   ]
  },
  {
   "cell_type": "markdown",
   "id": "b3058ee2",
   "metadata": {},
   "source": [
    "Perfect!"
   ]
  }
 ],
 "metadata": {
  "kernelspec": {
   "display_name": "Python 3.8.3 64-bit ('house_price_383_env')",
   "language": "python",
   "name": "python3"
  },
  "language_info": {
   "codemirror_mode": {
    "name": "ipython",
    "version": 3
   },
   "file_extension": ".py",
   "mimetype": "text/x-python",
   "name": "python",
   "nbconvert_exporter": "python",
   "pygments_lexer": "ipython3",
   "version": "3.8.3"
  },
  "vscode": {
   "interpreter": {
    "hash": "ceb3963e4a2b919e7c1d3ba624b414117783eb125ee7330ae655a31c7b084a6b"
   }
  }
 },
 "nbformat": 4,
 "nbformat_minor": 5
}
